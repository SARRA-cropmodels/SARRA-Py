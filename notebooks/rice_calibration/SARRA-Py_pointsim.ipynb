{
 "cells": [
  {
   "cell_type": "markdown",
   "metadata": {},
   "source": [
    "based on pointsim notebook"
   ]
  },
  {
   "cell_type": "code",
   "execution_count": 11,
   "metadata": {},
   "outputs": [],
   "source": [
    "import numpy as np\n",
    "import pandas as pd\n",
    "from pcse.db import NASAPowerWeatherDataProvider\n",
    "from pcse.util import reference_ET\n",
    "import datetime\n",
    "from matplotlib import pyplot as plt\n",
    "from tqdm import tqdm as tqdm\n",
    "import yaml\n",
    "import io\n",
    "from datetime import datetime as dt\n",
    "from sklearn.metrics import r2_score\n",
    "\n",
    "sys.path.append(\"../../src/\")\n",
    "from sarra_py import *"
   ]
  },
  {
   "cell_type": "code",
   "execution_count": 12,
   "metadata": {},
   "outputs": [],
   "source": [
    "# databse bruelle\n",
    "observations_full = pd.read_csv(\"../../data/observations/2006-2010_database_bvlac_bruelle.csv\",sep=\";\")"
   ]
  },
  {
   "cell_type": "code",
   "execution_count": 13,
   "metadata": {},
   "outputs": [],
   "source": [
    "observations_full = observations_full.groupby([\"village\",\"cropseason\",\"sowdate\"]).mean().reset_index()"
   ]
  },
  {
   "cell_type": "code",
   "execution_count": 14,
   "metadata": {},
   "outputs": [],
   "source": [
    "weather_correspondance = {\n",
    "    \"Ambohimiarina\":\"AgERA5_point_madagascar_Ambohimiarina_-18.83_47.13_2006_2010.csv\",\n",
    "    \"Ambohitsilaozana\":\"AgERA5_point_madagascar_Ambohitsilaozana_-17.7_48.47_2006_2010.csv\",\n",
    "    \"Ambongabe\":\"AgERA5_point_madagascar_Ambongabe_-18.53_48.03_2006_2010.csv\",\n",
    "    \"Ampitatsimo\":\"AgERA5_point_madagascar_Ampitatsimo_-17.81_48.38_2006_2010.csv\",\n",
    "    \"Antsahamamy\":\"AgERA5_point_madagascar_Antsahamamy_-18.92_47.56_2006_2010.csv\",\n",
    "\n",
    "}\n",
    "rain_correspondance = {\n",
    "    \"Ambohimiarina\":\"TAMSAT_v3.1_point_madagascar_Ambohimiarina_18.83_47.13_2006_2010.csv\",\n",
    "    \"Ambohitsilaozana\":\"TAMSAT_v3.1_point_madagascar_Ambohitsilaozana_18.92_47.56_2006_2010.csv\",\n",
    "    \"Ambongabe\":\"TAMSAT_v3.1_point_madagascar_Ambongabe_18.53_48.03_2006_2010.csv\",\n",
    "    \"Ampitatsimo\":\"TAMSAT_v3.1_point_madagascar_Ampitatsimo_17.81_48.38_2006_2010.csv\",\n",
    "    \"Antsahamamy\":\"TAMSAT_v3.1_point_madagascar_Antsahamamy_17.7_48.47_2006_2010.csv\",\n",
    "}"
   ]
  },
  {
   "cell_type": "code",
   "execution_count": 15,
   "metadata": {},
   "outputs": [],
   "source": [
    "def read_and_format_df_weather(file_df_weather, file_df_rain, file_df_irrig, file_df_ET0, date_start, duration):\n",
    "    # loading weather data and rain data exported from SARRA-H\n",
    "    # df weather\n",
    "    # df_weather = pd.read_csv(os.path.join('../../data/weather/',file_df_weather), sep=\"\\t\", decimal=\",\", skiprows=1)\n",
    "    df_weather = pd.read_csv(os.path.join('../../data/weather/',file_df_weather), sep=\",\", decimal=\".\")\n",
    "\n",
    "    # adaptation AgERA5\n",
    "    #df_weather[\"Jour\"] = df_weather.apply(lambda x: datetime.datetime.strptime(x[\"Jour\"], \"%d/%m/%Y\").date(), axis=1)\n",
    "    df_weather[\"Jour\"] = df_weather.apply(lambda x: datetime.datetime.strptime(x[\"Jour_SARRA_H\"], \"%d/%m/%Y\").date(), axis=1)\n",
    "    df_weather = df_weather[(df_weather[\"Jour\"] >= date_start) & (df_weather[\"Jour\"] <= date_start + datetime.timedelta(days=duration-1))].reset_index(drop=True)\n",
    "    df_weather[\"TMoy\"] = ((df_weather[\"TMin\"] + df_weather[\"TMax\"]) / 2) \n",
    "\n",
    "    # df rain\n",
    "    #df_rain = pd.read_csv(os.path.join('../../data/rain/',file_df_rain), sep=\"\\t\", decimal=\",\", skiprows=1)\n",
    "    df_rain = pd.read_csv(os.path.join('../../data/rain/',file_df_rain), sep=\",\", decimal=\".\")\n",
    "    # adaptation TAMSAT\n",
    "    # df_rain[\"Jour\"] = df_rain.apply(lambda x: datetime.datetime.strptime(x[\"Jour\"], \"%d/%m/%Y\").date(), axis=1)\n",
    "    df_rain[\"Jour\"] = df_rain.apply(lambda x: datetime.datetime.strptime(x[\"time\"], \"%Y-%m-%d\").date(), axis=1)\n",
    "\n",
    "    df_rain = df_rain[(df_rain[\"Jour\"] >= date_start) & (df_rain[\"Jour\"] <= date_start + datetime.timedelta(days=duration-1))].reset_index(drop=True)\n",
    "    df_rain[\"RAIN\"] = df_rain[\"rfe_filled\"]\n",
    "    #df_weather = df_weather.merge(df_rain, right_on=[\"Jour\", \"CodeStation\"], left_on=[\"Jour\", \"CodeStation\"])\n",
    "    df_weather = df_weather.merge(df_rain, right_on=[\"Jour\"], left_on=[\"Jour\"])\n",
    "\n",
    "    df_weather = df_weather.rename(columns={\"TMoy\":\"TEMP\", \"Pluie\":\"RAIN\", 'Rg':'IRRAD'})\n",
    "\n",
    "    # df ET0\n",
    "    if file_df_ET0 == None :\n",
    "        df_weather[\"ET0\"] = df_weather[\"ET0_PM\"] \n",
    "\n",
    "    else:\n",
    "        df_ET0 = pd.read_csv(os.path.join('../data/et0/',file_df_ET0), sep=\"\\t\", decimal=\",\", skiprows=1)\n",
    "        df_ET0[\"Jour\"] = df_ET0.apply(lambda x: datetime.datetime.strptime(x[\"Jour\"], \"%d/%m/%Y\").date(), axis=1)\n",
    "        df_ET0 = df_ET0[(df_ET0[\"Jour\"] >= date_start) & (df_ET0[\"Jour\"] <= date_start + datetime.timedelta(days=duration-1))].reset_index(drop=True)\n",
    "        df_weather = df_weather.merge(df_ET0[[\"Jour\",\"Eto\"]], left_on=\"Jour\", right_on=\"Jour\", how=\"outer\")\n",
    "        df_weather[\"ET0\"] = df_weather[\"Eto\"] # pour code qui appelle Eto/ET0\n",
    "\n",
    "    # df irrig\n",
    "    if file_df_irrig == None :\n",
    "        df_weather[\"Irrigation\"] = 0\n",
    "\n",
    "    else:\n",
    "        df_irrig = pd.read_csv(os.path.join('../data/irrig/',file_df_irrig), sep=\"\\t\", decimal=\",\", skiprows=1)\n",
    "        df_irrig[\"Jour\"] = df_irrig.apply(lambda x: datetime.datetime.strptime(x[\"Jour\"], \"%d/%m/%Y\").date(), axis=1)\n",
    "        df_irrig = df_irrig[(df_irrig[\"Jour\"] >= date_start) & (df_irrig[\"Jour\"] <= date_start + datetime.timedelta(days=duration-1))].reset_index(drop=True)\n",
    "        df_weather = df_weather.merge(df_irrig[[\"Jour\",\"Irrigation\"]], left_on=\"Jour\", right_on=\"Jour\", how=\"outer\")\n",
    "        df_weather.loc[np.isnan(df_weather[\"Irrigation\"]), \"Irrigation\"] = 0\n",
    "\n",
    "    return df_weather\n",
    "\n"
   ]
  },
  {
   "cell_type": "code",
   "execution_count": 16,
   "metadata": {},
   "outputs": [],
   "source": [
    "def InitSup2_alt(data, grid_width, grid_height, duration, df_weather_collection):\n",
    "    data[\"tpMoy\"] = np.concatenate([df_weather_collection[df_weather_id][\"TEMP\"].values for df_weather_id in df_weather_collection]).reshape(grid_width, grid_height, duration)\n",
    "    data[\"rain\"] = np.concatenate([df_weather_collection[df_weather_id][\"RAIN\"].values for df_weather_id in df_weather_collection]).reshape(grid_width, grid_height, duration)\n",
    "    data[\"ET0\"] = np.concatenate([df_weather_collection[df_weather_id][\"ET0\"].values for df_weather_id in df_weather_collection]).reshape(grid_width, grid_height, duration)\n",
    "    data[\"rg\"] = np.concatenate([df_weather_collection[df_weather_id][\"IRRAD\"].values for df_weather_id in df_weather_collection]).reshape(grid_width, grid_height, duration)\n",
    "    return data"
   ]
  },
  {
   "cell_type": "markdown",
   "metadata": {},
   "source": [
    "# Run"
   ]
  },
  {
   "cell_type": "raw",
   "metadata": {},
   "source": [
    "df_comparison_total = pd.DataFrame()\n",
    "\n",
    "for season in observations_full[\"cropseason\"].unique():\n",
    "    print(\"*** season\",season,\"***\")\n",
    "\n",
    "    observations = observations_full[observations_full[\"cropseason\"]==season].groupby([\"village\"]).sample(n=10, random_state=123).reset_index(drop=True)\n",
    "    observations[\"sowdate\"] = observations.apply(lambda x: dt.strptime(x[\"sowdate\"],\"%Y-%m-%d\").date(), axis=1)\n",
    "    observations[\"DOY\"] = observations.apply(lambda x: x[\"sowdate\"].timetuple().tm_yday, axis=1)\n",
    "\n",
    "    num_samples = len(observations)\n",
    "    id_sampling_start = 0\n",
    "\n",
    "    grid_width = 1\n",
    "    grid_height = num_samples\n",
    "    date_start = observations.loc[id_sampling_start:id_sampling_start+num_samples,\"sowdate\"].values.min()-datetime.timedelta(days=15) # plus petite date en commun entre les dates de semis du set de comparaison\n",
    "    duration = 365\n",
    "\n",
    "    # parameter file names\n",
    "    file_paramVariete = \"rice_variety.yaml\"\n",
    "    file_paramITK = \"rice_itk.yaml\" # date de semis à override\n",
    "    file_paramTypeSol = \"rice_soil.yaml\"\n",
    "\n",
    "    # Read YAML file\n",
    "    # paramVariete\n",
    "    with open(os.path.join('../../data/params/variety/',file_paramVariete), 'r') as stream:\n",
    "        paramVariete = yaml.safe_load(stream)\n",
    "        \n",
    "    if paramVariete[\"feuilAeroBase\"] == 0.1 :\n",
    "        raise exception()\n",
    "\n",
    "    # paramITK\n",
    "    with open(os.path.join('../../data/params/itk/',file_paramITK), 'r') as stream:\n",
    "        paramITK = yaml.safe_load(stream)\n",
    "\n",
    "    paramITK[\"DateSemis\"] = observations.loc[id_sampling_start:id_sampling_start+num_samples,\"sowdate\"].values\n",
    "\n",
    "    # paramTypeSol\n",
    "    with open(os.path.join('../../data/params/soil/',file_paramTypeSol), 'r') as stream:\n",
    "        paramTypeSol = yaml.safe_load(stream)\n",
    "\n",
    "    if ~np.isnan(paramITK[\"NI\"]):\n",
    "        print(\"NI NON NULL\") \n",
    "        paramVariete[\"txConversion\"] = paramVariete[\"NIYo\"] + paramVariete[\"NIp\"] * (1-np.exp(-paramVariete[\"NIp\"] * paramITK[\"NI\"])) - (np.exp(-0.5*((paramITK[\"NI\"] - paramVariete[\"LGauss\"])/paramVariete[\"AGauss\"])* (paramITK[\"NI\"]- paramVariete[\"LGauss\"])/paramVariete[\"AGauss\"]))/(paramVariete[\"AGauss\"]*2.506628274631)\n",
    "\n",
    "\n",
    "    # building weather dfs\n",
    "    df_weather_collection = {}\n",
    "    for sample in tqdm(range(num_samples)):\n",
    "        location = observations.loc[id_sampling_start+sample,\"village\"]\n",
    "        df_weather_collection[sample] = read_and_format_df_weather(weather_correspondance[location], rain_correspondance[location], file_df_irrig=None, file_df_ET0=None, date_start=date_start, duration=duration)\n",
    "\n",
    "\n",
    "    # looping\n",
    "    import warnings\n",
    "    warnings.filterwarnings(\"ignore\")\n",
    "\n",
    "    data_run = {}\n",
    "\n",
    "    data_run = InitPlotMc(data_run, grid_width, grid_height, paramITK, paramTypeSol, duration) # **** bileau *** # trad OK\n",
    "    data_run = InitiationCulture(data_run, grid_width, grid_height, duration, paramVariete)\n",
    "    data_run = InitSup(data_run, grid_width, grid_height, duration, df_weather_collection[0], paramTypeSol, paramITK) # penser à override l'irrigation\n",
    "    # data_run = InitSup2(data_run, grid_width, grid_height, duration, df_weather)\n",
    "    data_run = InitSup2_alt(data_run, grid_width, grid_height, duration, df_weather_collection)\n",
    "    data_run = EvalPar(data_run)\n",
    "\n",
    "    for j in tqdm(range(duration)):\n",
    "        # on reporte en commentaire les fichiers source dans lesquelles se trouvent\n",
    "        # les procédures concernées. no note ***entre étoiles*** les procédures\n",
    "        # retenues pour cette traduction python\n",
    "\n",
    "        # if date_start + datetime.timedelta(days=j) >= paramITK[\"DateSemis\"][0]:\n",
    "        #     print(\"do nothing\")\n",
    "        #     data_run = EvalPhenoSarrahV3(j, data_run, paramITK, paramVariete) # ***phenologie*** et exmodules ### trad OK\n",
    "        #     data_run = EvalDegresJourSarrahV3(j, data_run, paramVariete) # ***phenologie*** et exmodules ### trad OK\n",
    "\n",
    "        #procédure pour prendre en compte une date de semis différente par sample/pixel vertical\n",
    "\n",
    "        data_run_local = EvalPhenoSarrahV3(j, data_run, paramITK, paramVariete).copy() # ***phenologie*** et exmodules ### trad OK\n",
    "        data_run_local = EvalDegresJourSarrahV3(j, data_run_local, paramVariete) # ***phenologie*** et exmodules ### trad OK\n",
    "\n",
    "        for sample in range(num_samples):\n",
    "            if date_start + datetime.timedelta(days=j) >= paramITK[\"DateSemis\"][sample]:\n",
    "                for variable in data_run_local :\n",
    "                    try:\n",
    "                        data_run[variable][:,sample,j:] = data_run_local[variable][0,sample,j:].copy()\n",
    "                        data_run[variable][:,sample,j:] = data_run_local[variable][:,sample,j:].copy()\n",
    "                    except:\n",
    "                        pass\n",
    "\n",
    "        #bilan hydrique\n",
    "        data_run = EvalIrrigPhase(j, data_run, paramITK) # ***bileau***, exmodules 2 ### trad OK\n",
    "        data_run = PluieIrrig(j, data_run) # ***bileau***, exmodules 2 ###trad OK\n",
    "        data_run = RempliMc(j, data_run, paramITK) # ***bileau***, exmodules 2 ### trad OK\n",
    "        data_run = EvalRunOff(j, data_run, paramTypeSol) # ***bileau***, exmodules 1 & 2 ###trad OK\n",
    "        data_run = EvolRurCstr2(j, data_run, paramITK) # ***bileau*** ##trad OK\n",
    "        data_run = rempliRes(j, data_run) # bhytypeFAO, ***bileau***; exmodules 1 & 2, risocas ###trad OK\n",
    "        data_run = EvalFESW(j, data_run) # bhytypeFAO, ***bileau***; exmodules 1 & 2 ###trad O\n",
    "        data_run = EvalKceMc(j, data_run, paramITK) # ***bileau***, exmodules 2 ###trad OK\n",
    "        data_run = DemandeSol(j, data_run) # ***bileau***, exmodules 1 & 2 ### trad OK\n",
    "        data_run = EvapMc(j, data_run, paramITK) # ***bileau***, exmodules 2 ### trad OK\n",
    "        data_run = EvapRuSurf(j, data_run) # ***bileau***, exmodules 1 & 2 ###trad OK\n",
    "        data_run = EvalFTSW(j, data_run) # ***bileau***, exmodules 1 & 2, risocas, riz ###trad OK\n",
    "        data_run = EvolKcpKcIni(j, data_run, paramVariete) # biomasse, exmodules 1 & 2 # comparaison  code nécessaire pour choix ###trad OK\n",
    "        data_run = DemandePlante(j, data_run) # bhytypeFAO, ***bileau***; exmodules 1 & 2 ###trad OK\n",
    "        data_run = EvalKcTot(j, data_run) # ***bileau***, exmodules 1 & 2 ## trad O\n",
    "        data_run = CstrPFactor(j, data_run, paramVariete) # bhytypeFAO, ***bileau***; exmodules 1 & 2, risocas #trad OK\n",
    "        data_run = EvalTranspi(j, data_run) # bhytypeFAO, ***bileau***; exmodules 1 & 2 # trad OK\n",
    "        data_run = ConsoResSep(j, data_run) # ***bileau***; exmodules 1 & 2 # trad O\n",
    "        # phenologie\n",
    "        data_run = EvalVitesseRacSarraV3(j, data_run, paramVariete) # ***phenologie*** , exmodules 1 & 2 # trad OK\n",
    "        \n",
    "        # bilan carbone\n",
    "        data_run = EvalLtr(j, data_run, paramVariete) #biomasse, exmodules 1 & 2 # comparaison code nécessaire pour choix #trad OK\n",
    "        data_run = EvalConversion(j, data_run, paramVariete) # mimlbilancarbone copie, ecopalm2_2, exmodules 1 & 2, ***milbilancarbone***, risocas, riz # trad OK\n",
    "        data_run = BiomDensOptSarV42(j, data_run, paramITK, paramVariete) # ***bilancarbonsarra*** # trad OK\n",
    "        data_run = EvalAssimSarrahV42(j, data_run, paramITK, paramVariete) # ***bilancarbonsarra*** # trad OK\n",
    "        data_run = EvalRespMaintSarrahV3(j, data_run, paramVariete) # ***bilancarbonsarra***, exmodules 1 & 2 ### trad OK\n",
    "        data_run = EvolBiomTotSarrahV4(j, data_run, paramVariete, paramITK) # ***bilancarbonsarra*** ### trad OK, vérifier questiond e la densité\n",
    "        data_run = EvalRdtPotRespSarV42(j, data_run, paramVariete) # ***bilancarbonsarra*** ###trad OK\n",
    "        data_run = EvolBiomAeroSarrahV3(j, data_run, paramVariete) # ***bilancarbonsarra***, exmodules 1 & 2 ###trad OK\n",
    "        data_run = EvalReallocationSarrahV3(j, data_run, paramVariete) # ***bilancarbonsarra***, exmodules 1 & 2 ###trad OK\n",
    "        data_run = EvalBiomasseRacinaire(j, data_run) # copie milbilancarbone, exmodules 1 & 2, ***milbilancarbone*** ### trad OK\n",
    "        data_run = EvalFeuilleTigeSarrahV4(j, data_run, paramVariete) # ***bilancarbonesarra*** ### trad OK\n",
    "        data_run = EvalBiomasseVegetati(j, data_run) # copie milbilancarbon, exmodules 1 & 2, ***milbilancarbone*** ###trad OK\n",
    "        data_run = EvalSlaSarrahV3(j, data_run, paramVariete) # ***bilancarbonesarrah***, exmodules 1 & 2  ### trad OK\n",
    "        data_run = EvolLAIPhases(j, data_run) # exmodules 1 & 2, ***milbilancarbone*** ###trad OK\n",
    "        data_run = EvolDayRdtSarraV3(j, data_run) # ***bilancarbonesarra***, exmodules 1 & 2 ### trad OK\n",
    "        #phenologie\n",
    "        data_run = PhotoperSarrahV3(j, data_run, paramVariete) # exmodules 1 et 2, ***phenologie*** ###trad OK\n",
    "        \n",
    "        # bilan carbone\n",
    "        data_run = MortaliteSarraV3(j, data_run, paramITK, paramVariete) # ***bilancarbonsarra***, exmodules 1 & 2 ### trad OK\n",
    "        data_run = BiomDensiteSarraV42(j, data_run, paramITK, paramVariete)# ***bilancarbonsarra*** ### trad OK\n",
    "        data_run = BiomMcUBTSV3(j, data_run, paramITK) # ***bilancarbonsarra***, exmodules 2\n",
    "        data_run = MAJBiomMcSV3(data_run) # ***bilancarbonsarra***, exmodules 2\n",
    "\n",
    "    df_comparison = pd.DataFrame({\"season\":season,\"observed_yield\":observations.loc[id_sampling_start:id_sampling_start+num_samples-1, \"yield\"], \"simulated_yield\":[data_run[\"rdt\"][0,i,-1] for i in range(num_samples)]})\n",
    "    df_comparison_total = df_comparison_total.append(df_comparison)\n",
    "corrcoeff = df_comparison_total.corr().iloc[0,1]\n",
    "\n",
    "plt.scatter(df_comparison_total[\"observed_yield\"], df_comparison_total[\"simulated_yield\"])\n",
    "plt.show()"
   ]
  },
  {
   "cell_type": "markdown",
   "metadata": {},
   "source": [
    "# essai optim"
   ]
  },
  {
   "cell_type": "code",
   "execution_count": 17,
   "metadata": {},
   "outputs": [],
   "source": [
    "import warnings\n",
    "warnings.filterwarnings(\"ignore\")\n",
    "\n",
    "# SDJBVP: 400.0 # proposition : 800/2\n",
    "# SDJRPR: 400.0 # proposition : 800/2\n",
    "# SDJMatu1: 325.0 # proposition : 650/2\n",
    "# SDJMatu2: 325.0 # proposition : 650/2\n",
    "\n",
    "        # paramVariete[\"SDJBVP\"] = SDJBVP\n",
    "        # paramVariete[\"SDJRPR\"] = SDJRPR\n",
    "        # paramVariete[\"SDJMatu1\"] = SDJMatu1\n",
    "        # paramVariete[\"SDJMatu2\"] = SDJMatu2\n",
    "\n",
    "def run(SDJBVP, SDJRPR, SDJMatu1, SDJMatu2):\n",
    "\n",
    "\n",
    "    \n",
    "\n",
    "    df_comparison_total = pd.DataFrame()\n",
    "\n",
    "    for season in observations_full[\"cropseason\"].unique():\n",
    "        print(\"*** season\",season,\"***\")\n",
    "\n",
    "        observations = observations_full[observations_full[\"cropseason\"]==season].groupby([\"village\"]).sample(n=10, random_state=123).reset_index(drop=True)\n",
    "        # observations = observations_full[observations_full[\"cropseason\"]==season].reset_index(drop=True)\n",
    "        observations[\"sowdate\"] = observations.apply(lambda x: dt.strptime(x[\"sowdate\"],\"%Y-%m-%d\").date(), axis=1)\n",
    "        observations[\"DOY\"] = observations.apply(lambda x: x[\"sowdate\"].timetuple().tm_yday, axis=1)\n",
    "\n",
    "        num_samples = len(observations)\n",
    "        id_sampling_start = 0\n",
    "\n",
    "        grid_width = 1\n",
    "        grid_height = num_samples\n",
    "        date_start = observations.loc[id_sampling_start:id_sampling_start+num_samples,\"sowdate\"].values.min()-datetime.timedelta(days=15) # plus petite date en commun entre les dates de semis du set de comparaison\n",
    "        duration = 365\n",
    "\n",
    "        # parameter file names\n",
    "        file_paramVariete = \"rice_variety.yaml\"\n",
    "        file_paramITK = \"rice_itk.yaml\" # date de semis à override\n",
    "        file_paramTypeSol = \"rice_soil.yaml\"\n",
    "\n",
    "        # Read YAML file\n",
    "        # paramVariete\n",
    "        with open(os.path.join('../../data/params/variety/',file_paramVariete), 'r') as stream:\n",
    "            paramVariete = yaml.safe_load(stream)\n",
    "            \n",
    "        if paramVariete[\"feuilAeroBase\"] == 0.1 :\n",
    "            raise exception()\n",
    "\n",
    "        # paramITK\n",
    "        with open(os.path.join('../../data/params/itk/',file_paramITK), 'r') as stream:\n",
    "            paramITK = yaml.safe_load(stream)\n",
    "\n",
    "        paramITK[\"DateSemis\"] = observations.loc[id_sampling_start:id_sampling_start+num_samples,\"sowdate\"].values\n",
    "\n",
    "        # paramTypeSol\n",
    "        with open(os.path.join('../../data/params/soil/',file_paramTypeSol), 'r') as stream:\n",
    "            paramTypeSol = yaml.safe_load(stream)\n",
    "\n",
    "        if ~np.isnan(paramITK[\"NI\"]):\n",
    "            print(\"NI NON NULL\") \n",
    "            paramVariete[\"txConversion\"] = paramVariete[\"NIYo\"] + paramVariete[\"NIp\"] * (1-np.exp(-paramVariete[\"NIp\"] * paramITK[\"NI\"])) - (np.exp(-0.5*((paramITK[\"NI\"] - paramVariete[\"LGauss\"])/paramVariete[\"AGauss\"])* (paramITK[\"NI\"]- paramVariete[\"LGauss\"])/paramVariete[\"AGauss\"]))/(paramVariete[\"AGauss\"]*2.506628274631)\n",
    "\n",
    "        paramVariete[\"SDJBVP\"] = SDJBVP\n",
    "        paramVariete[\"SDJRPR\"] = SDJRPR\n",
    "        paramVariete[\"SDJMatu1\"] = SDJMatu1\n",
    "        paramVariete[\"SDJMatu2\"] = SDJMatu2\n",
    "\n",
    "        # building weather dfs\n",
    "        df_weather_collection = {}\n",
    "        for sample in tqdm(range(num_samples)):\n",
    "            location = observations.loc[id_sampling_start+sample,\"village\"]\n",
    "            df_weather_collection[sample] = read_and_format_df_weather(weather_correspondance[location], rain_correspondance[location], file_df_irrig=None, file_df_ET0=None, date_start=date_start, duration=duration)\n",
    "\n",
    "\n",
    "        # looping\n",
    "        import warnings\n",
    "        warnings.filterwarnings(\"ignore\")\n",
    "\n",
    "        data_run = {}\n",
    "\n",
    "        data_run = InitPlotMc(data_run, grid_width, grid_height, paramITK, paramTypeSol, duration) # **** bileau *** # trad OK\n",
    "        data_run = InitiationCulture(data_run, grid_width, grid_height, duration, paramVariete)\n",
    "        data_run = InitSup(data_run, grid_width, grid_height, duration, df_weather_collection[0], paramTypeSol, paramITK) # penser à override l'irrigation\n",
    "        # data_run = InitSup2(data_run, grid_width, grid_height, duration, df_weather)\n",
    "        data_run = InitSup2_alt(data_run, grid_width, grid_height, duration, df_weather_collection)\n",
    "        data_run = EvalPar(data_run)\n",
    "\n",
    "        for j in tqdm(range(duration)):\n",
    "            # on reporte en commentaire les fichiers source dans lesquelles se trouvent\n",
    "            # les procédures concernées. no note ***entre étoiles*** les procédures\n",
    "            # retenues pour cette traduction python\n",
    "\n",
    "            # if date_start + datetime.timedelta(days=j) >= paramITK[\"DateSemis\"][0]:\n",
    "            #     print(\"do nothing\")\n",
    "            #     data_run = EvalPhenoSarrahV3(j, data_run, paramITK, paramVariete) # ***phenologie*** et exmodules ### trad OK\n",
    "            #     data_run = EvalDegresJourSarrahV3(j, data_run, paramVariete) # ***phenologie*** et exmodules ### trad OK\n",
    "\n",
    "            #procédure pour prendre en compte une date de semis différente par sample/pixel vertical\n",
    "\n",
    "            data_run_local = EvalPhenoSarrahV3(j, data_run, paramITK, paramVariete).copy() # ***phenologie*** et exmodules ### trad OK\n",
    "            data_run_local = EvalDegresJourSarrahV3(j, data_run_local, paramVariete) # ***phenologie*** et exmodules ### trad OK\n",
    "\n",
    "            for sample in range(num_samples):\n",
    "                if date_start + datetime.timedelta(days=j) >= paramITK[\"DateSemis\"][sample]:\n",
    "                    for variable in data_run_local :\n",
    "                        try:\n",
    "                            data_run[variable][:,sample,j:] = data_run_local[variable][0,sample,j:].copy()\n",
    "                            data_run[variable][:,sample,j:] = data_run_local[variable][:,sample,j:].copy()\n",
    "                        except:\n",
    "                            pass\n",
    "\n",
    "            #bilan hydrique\n",
    "            data_run = EvalIrrigPhase(j, data_run, paramITK) # ***bileau***, exmodules 2 ### trad OK\n",
    "            data_run = PluieIrrig(j, data_run) # ***bileau***, exmodules 2 ###trad OK\n",
    "            data_run = RempliMc(j, data_run, paramITK) # ***bileau***, exmodules 2 ### trad OK\n",
    "            data_run = EvalRunOff(j, data_run, paramTypeSol) # ***bileau***, exmodules 1 & 2 ###trad OK\n",
    "            data_run = EvolRurCstr2(j, data_run, paramITK) # ***bileau*** ##trad OK\n",
    "            data_run = rempliRes(j, data_run) # bhytypeFAO, ***bileau***; exmodules 1 & 2, risocas ###trad OK\n",
    "            data_run = EvalFESW(j, data_run) # bhytypeFAO, ***bileau***; exmodules 1 & 2 ###trad O\n",
    "            data_run = EvalKceMc(j, data_run, paramITK) # ***bileau***, exmodules 2 ###trad OK\n",
    "            data_run = DemandeSol(j, data_run) # ***bileau***, exmodules 1 & 2 ### trad OK\n",
    "            data_run = EvapMc(j, data_run, paramITK) # ***bileau***, exmodules 2 ### trad OK\n",
    "            data_run = EvapRuSurf(j, data_run) # ***bileau***, exmodules 1 & 2 ###trad OK\n",
    "            data_run = EvalFTSW(j, data_run) # ***bileau***, exmodules 1 & 2, risocas, riz ###trad OK\n",
    "            data_run = EvolKcpKcIni(j, data_run, paramVariete) # biomasse, exmodules 1 & 2 # comparaison  code nécessaire pour choix ###trad OK\n",
    "            data_run = DemandePlante(j, data_run) # bhytypeFAO, ***bileau***; exmodules 1 & 2 ###trad OK\n",
    "            data_run = EvalKcTot(j, data_run) # ***bileau***, exmodules 1 & 2 ## trad O\n",
    "            data_run = CstrPFactor(j, data_run, paramVariete) # bhytypeFAO, ***bileau***; exmodules 1 & 2, risocas #trad OK\n",
    "            data_run = EvalTranspi(j, data_run) # bhytypeFAO, ***bileau***; exmodules 1 & 2 # trad OK\n",
    "            data_run = ConsoResSep(j, data_run) # ***bileau***; exmodules 1 & 2 # trad O\n",
    "            # phenologie\n",
    "            data_run = EvalVitesseRacSarraV3(j, data_run, paramVariete) # ***phenologie*** , exmodules 1 & 2 # trad OK\n",
    "            \n",
    "            # bilan carbone\n",
    "            data_run = EvalLtr(j, data_run, paramVariete) #biomasse, exmodules 1 & 2 # comparaison code nécessaire pour choix #trad OK\n",
    "            data_run = EvalConversion(j, data_run, paramVariete) # mimlbilancarbone copie, ecopalm2_2, exmodules 1 & 2, ***milbilancarbone***, risocas, riz # trad OK\n",
    "            data_run = BiomDensOptSarV42(j, data_run, paramITK, paramVariete) # ***bilancarbonsarra*** # trad OK\n",
    "            data_run = EvalAssimSarrahV42(j, data_run, paramITK, paramVariete) # ***bilancarbonsarra*** # trad OK\n",
    "            data_run = EvalRespMaintSarrahV3(j, data_run, paramVariete) # ***bilancarbonsarra***, exmodules 1 & 2 ### trad OK\n",
    "            data_run = EvolBiomTotSarrahV4(j, data_run, paramVariete, paramITK) # ***bilancarbonsarra*** ### trad OK, vérifier questiond e la densité\n",
    "            data_run = EvalRdtPotRespSarV42(j, data_run, paramVariete) # ***bilancarbonsarra*** ###trad OK\n",
    "            data_run = EvolBiomAeroSarrahV3(j, data_run, paramVariete) # ***bilancarbonsarra***, exmodules 1 & 2 ###trad OK\n",
    "            data_run = EvalReallocationSarrahV3(j, data_run, paramVariete) # ***bilancarbonsarra***, exmodules 1 & 2 ###trad OK\n",
    "            data_run = EvalBiomasseRacinaire(j, data_run) # copie milbilancarbone, exmodules 1 & 2, ***milbilancarbone*** ### trad OK\n",
    "            data_run = EvalFeuilleTigeSarrahV4(j, data_run, paramVariete) # ***bilancarbonesarra*** ### trad OK\n",
    "            data_run = EvalBiomasseVegetati(j, data_run) # copie milbilancarbon, exmodules 1 & 2, ***milbilancarbone*** ###trad OK\n",
    "            data_run = EvalSlaSarrahV3(j, data_run, paramVariete) # ***bilancarbonesarrah***, exmodules 1 & 2  ### trad OK\n",
    "            data_run = EvolLAIPhases(j, data_run) # exmodules 1 & 2, ***milbilancarbone*** ###trad OK\n",
    "            data_run = EvolDayRdtSarraV3(j, data_run) # ***bilancarbonesarra***, exmodules 1 & 2 ### trad OK\n",
    "            #phenologie\n",
    "            data_run = PhotoperSarrahV3(j, data_run, paramVariete) # exmodules 1 et 2, ***phenologie*** ###trad OK\n",
    "            \n",
    "            # bilan carbone\n",
    "            data_run = MortaliteSarraV3(j, data_run, paramITK, paramVariete) # ***bilancarbonsarra***, exmodules 1 & 2 ### trad OK\n",
    "            data_run = BiomDensiteSarraV42(j, data_run, paramITK, paramVariete)# ***bilancarbonsarra*** ### trad OK\n",
    "            data_run = BiomMcUBTSV3(j, data_run, paramITK) # ***bilancarbonsarra***, exmodules 2\n",
    "            data_run = MAJBiomMcSV3(data_run) # ***bilancarbonsarra***, exmodules 2\n",
    "\n",
    "        df_comparison = pd.DataFrame({\"season\":season,\"observed_yield\":observations.loc[id_sampling_start:id_sampling_start+num_samples-1, \"yield\"], \"simulated_yield\":[data_run[\"rdt\"][0,i,-1] for i in range(num_samples)]})\n",
    "        df_comparison_total = df_comparison_total.append(df_comparison)\n",
    "    corrcoeff = df_comparison_total.corr().iloc[0,1]\n",
    "    r2score = r2_score(df_comparison_total[\"observed_yield\"], df_comparison_total[\"simulated_yield\"])\n",
    "\n",
    "    plt.scatter(df_comparison_total[\"observed_yield\"], df_comparison_total[\"simulated_yield\"])\n",
    "    plt.show()\n",
    "\n",
    "    return corrcoeff"
   ]
  },
  {
   "cell_type": "code",
   "execution_count": 18,
   "metadata": {},
   "outputs": [],
   "source": [
    "def constraint_function(SDJBVP, SDJRPR, SDJMatu1, SDJMatu2):\n",
    "    # test des contraintes sur les sommes de temp\n",
    "\n",
    "    # SARRA  |---Levée---|---BVP---|---PSP---|---RPR---|---MATU1---|---MATU2---|\n",
    "    # WOFOST |---TSUMEM--|------------TSUM1------------|---------TSUM2---------|\n",
    "    \n",
    "    # WOFOST TSUM1\n",
    "    # temperature sum from emergence to anthesis\n",
    "    # rice_eu : 875\n",
    "    # rice_irri : 800\n",
    "    # rice_501 : 875\n",
    "    # rice_HYV_IR8 : 800\n",
    "    # Rice_IR64616H_DS : 1420\n",
    "    # Rice_IR64616H_WS : 1500\n",
    "    # Rice_IR64 : 1570\n",
    "    # rice_IR72 : 1420\n",
    "    # Rice_IR72_DS : 1420\n",
    "    # Rice_IR72_WS : 1550\n",
    "    # Rice_IR8A : 1633\n",
    "\n",
    "    # WOFOST TSUM2\n",
    "    # temperature sum from anthesis to maturity\n",
    "    # rice_eu : 625\n",
    "    # rice_irri : 465\n",
    "    # rice_501 : 625\n",
    "    # rice_HYV_IR8 : 465\n",
    "    # Rice_IR64616H_DS : 680\n",
    "    # Rice_IR64616H_WS : 580\n",
    "    # Rice_IR64 : 770\n",
    "    # rice_IR72 : 630\n",
    "    # Rice_IR72_DS : 630\n",
    "    # Rice_IR72_WS : 600\n",
    "    # Rice_IR8A : 506\n",
    "    \n",
    "    if (SDJBVP + SDJRPR < 800) or (SDJBVP + SDJRPR > 1633):\n",
    "        return 0\n",
    "    if (SDJMatu1 + SDJMatu2 < 465) or (SDJMatu1 + SDJMatu2 > 770):\n",
    "        return 0\n",
    "    else:\n",
    "        return 1"
   ]
  },
  {
   "cell_type": "code",
   "execution_count": 19,
   "metadata": {},
   "outputs": [],
   "source": [
    "from bayes_opt import BayesianOptimization\n",
    "from scipy.optimize import NonlinearConstraint\n",
    "\n",
    "# SDJBVP: 400.0 # proposition : 800/2\n",
    "# SDJRPR: 400.0 # proposition : 800/2\n",
    "# SDJMatu1: 325.0 # proposition : 650/2\n",
    "# SDJMatu2: 325.0 # proposition : 650/2\n",
    "\n",
    "# Bounded region of parameter space\n",
    "pbounds = {\n",
    "    'SDJBVP': (200, 600),\n",
    "    'SDJRPR': (200, 600),\n",
    "    'SDJMatu1': (275, 375),\n",
    "    'SDJMatu2': (275, 375)\n",
    "    }\n",
    "    \n",
    "constraint = NonlinearConstraint(constraint_function, -np.inf, 0.5)\n",
    "\n",
    "optimizer = BayesianOptimization(\n",
    "    f=run,\n",
    "    pbounds=pbounds,\n",
    "    constraint=constraint,\n",
    "    random_state=1,\n",
    ")"
   ]
  },
  {
   "cell_type": "code",
   "execution_count": 20,
   "metadata": {},
   "outputs": [
    {
     "name": "stdout",
     "output_type": "stream",
     "text": [
      "probing variety rice_eu\n",
      "*** season Y06_07 ***\n"
     ]
    },
    {
     "name": "stderr",
     "output_type": "stream",
     "text": [
      "100%|██████████| 40/40 [00:03<00:00, 12.48it/s]\n",
      "100%|██████████| 365/365 [00:04<00:00, 78.73it/s]\n"
     ]
    },
    {
     "name": "stdout",
     "output_type": "stream",
     "text": [
      "*** season Y07_08 ***\n"
     ]
    },
    {
     "name": "stderr",
     "output_type": "stream",
     "text": [
      "100%|██████████| 50/50 [00:03<00:00, 13.30it/s]\n",
      "100%|██████████| 365/365 [00:05<00:00, 64.34it/s]\n"
     ]
    },
    {
     "name": "stdout",
     "output_type": "stream",
     "text": [
      "*** season Y08_09 ***\n"
     ]
    },
    {
     "name": "stderr",
     "output_type": "stream",
     "text": [
      "100%|██████████| 50/50 [00:04<00:00, 12.15it/s]\n",
      "100%|██████████| 365/365 [00:06<00:00, 59.24it/s]\n"
     ]
    },
    {
     "name": "stdout",
     "output_type": "stream",
     "text": [
      "*** season Y09_10 ***\n"
     ]
    },
    {
     "name": "stderr",
     "output_type": "stream",
     "text": [
      "100%|██████████| 50/50 [00:04<00:00, 12.21it/s]\n",
      "100%|██████████| 365/365 [00:08<00:00, 44.78it/s]\n"
     ]
    },
    {
     "data": {
      "image/png": "[encoded data removed]",
      "text/plain": [
       "<Figure size 432x288 with 1 Axes>"
      ]
     },
     "metadata": {
      "needs_background": "light"
     },
     "output_type": "display_data"
    },
    {
     "name": "stdout",
     "output_type": "stream",
     "text": [
      "probing variety rice_irri\n",
      "*** season Y06_07 ***\n"
     ]
    },
    {
     "name": "stderr",
     "output_type": "stream",
     "text": [
      "100%|██████████| 40/40 [00:04<00:00,  9.73it/s]\n",
      "100%|██████████| 365/365 [00:05<00:00, 62.23it/s]\n"
     ]
    },
    {
     "name": "stdout",
     "output_type": "stream",
     "text": [
      "*** season Y07_08 ***\n"
     ]
    },
    {
     "name": "stderr",
     "output_type": "stream",
     "text": [
      "100%|██████████| 50/50 [00:05<00:00,  8.50it/s]\n",
      "100%|██████████| 365/365 [00:06<00:00, 54.66it/s]\n"
     ]
    },
    {
     "name": "stdout",
     "output_type": "stream",
     "text": [
      "*** season Y08_09 ***\n"
     ]
    },
    {
     "name": "stderr",
     "output_type": "stream",
     "text": [
      "100%|██████████| 50/50 [00:04<00:00, 10.92it/s]\n",
      "100%|██████████| 365/365 [00:06<00:00, 56.60it/s]\n"
     ]
    },
    {
     "name": "stdout",
     "output_type": "stream",
     "text": [
      "*** season Y09_10 ***\n"
     ]
    },
    {
     "name": "stderr",
     "output_type": "stream",
     "text": [
      "100%|██████████| 50/50 [00:04<00:00, 12.04it/s]\n",
      "100%|██████████| 365/365 [00:06<00:00, 58.08it/s]\n"
     ]
    },
    {
     "data": {
      "image/png": "[encoded data removed]",
      "text/plain": [
       "<Figure size 432x288 with 1 Axes>"
      ]
     },
     "metadata": {
      "needs_background": "light"
     },
     "output_type": "display_data"
    },
    {
     "name": "stdout",
     "output_type": "stream",
     "text": [
      "probing variety rice_501\n",
      "probing variety rice_HYV_IR8\n",
      "probing variety Rice_IR64616H_DS\n",
      "*** season Y06_07 ***\n"
     ]
    },
    {
     "name": "stderr",
     "output_type": "stream",
     "text": [
      "100%|██████████| 40/40 [00:03<00:00, 11.87it/s]\n",
      "100%|██████████| 365/365 [00:05<00:00, 70.04it/s]\n"
     ]
    },
    {
     "name": "stdout",
     "output_type": "stream",
     "text": [
      "*** season Y07_08 ***\n"
     ]
    },
    {
     "name": "stderr",
     "output_type": "stream",
     "text": [
      "100%|██████████| 50/50 [00:04<00:00, 12.09it/s]\n",
      "100%|██████████| 365/365 [00:06<00:00, 57.10it/s]\n"
     ]
    },
    {
     "name": "stdout",
     "output_type": "stream",
     "text": [
      "*** season Y08_09 ***\n"
     ]
    },
    {
     "name": "stderr",
     "output_type": "stream",
     "text": [
      "100%|██████████| 50/50 [00:06<00:00,  7.88it/s]\n",
      "100%|██████████| 365/365 [00:07<00:00, 48.98it/s]\n"
     ]
    },
    {
     "name": "stdout",
     "output_type": "stream",
     "text": [
      "*** season Y09_10 ***\n"
     ]
    },
    {
     "name": "stderr",
     "output_type": "stream",
     "text": [
      "100%|██████████| 50/50 [00:04<00:00, 10.28it/s]\n",
      "100%|██████████| 365/365 [00:06<00:00, 54.79it/s]\n"
     ]
    },
    {
     "data": {
      "image/png": "[encoded data removed]",
      "text/plain": [
       "<Figure size 432x288 with 1 Axes>"
      ]
     },
     "metadata": {
      "needs_background": "light"
     },
     "output_type": "display_data"
    },
    {
     "name": "stdout",
     "output_type": "stream",
     "text": [
      "probing variety Rice_IR64616H_WS\n",
      "*** season Y06_07 ***\n"
     ]
    },
    {
     "name": "stderr",
     "output_type": "stream",
     "text": [
      "100%|██████████| 40/40 [00:03<00:00, 11.47it/s]\n",
      "100%|██████████| 365/365 [00:05<00:00, 66.33it/s]\n"
     ]
    },
    {
     "name": "stdout",
     "output_type": "stream",
     "text": [
      "*** season Y07_08 ***\n"
     ]
    },
    {
     "name": "stderr",
     "output_type": "stream",
     "text": [
      "100%|██████████| 50/50 [00:04<00:00, 11.53it/s]\n",
      "100%|██████████| 365/365 [00:06<00:00, 60.07it/s]\n"
     ]
    },
    {
     "name": "stdout",
     "output_type": "stream",
     "text": [
      "*** season Y08_09 ***\n"
     ]
    },
    {
     "name": "stderr",
     "output_type": "stream",
     "text": [
      "100%|██████████| 50/50 [00:04<00:00, 11.64it/s]\n",
      "100%|██████████| 365/365 [00:06<00:00, 54.05it/s]\n"
     ]
    },
    {
     "name": "stdout",
     "output_type": "stream",
     "text": [
      "*** season Y09_10 ***\n"
     ]
    },
    {
     "name": "stderr",
     "output_type": "stream",
     "text": [
      "100%|██████████| 50/50 [00:04<00:00, 10.67it/s]\n",
      "100%|██████████| 365/365 [00:07<00:00, 50.55it/s]\n"
     ]
    },
    {
     "data": {
      "image/png": "[encoded data removed]",
      "text/plain": [
       "<Figure size 432x288 with 1 Axes>"
      ]
     },
     "metadata": {
      "needs_background": "light"
     },
     "output_type": "display_data"
    },
    {
     "name": "stdout",
     "output_type": "stream",
     "text": [
      "probing variety Rice_IR64\n",
      "*** season Y06_07 ***\n"
     ]
    },
    {
     "name": "stderr",
     "output_type": "stream",
     "text": [
      "100%|██████████| 40/40 [00:04<00:00,  9.28it/s]\n",
      " 62%|██████▏   | 227/365 [00:03<00:02, 55.37it/s]"
     ]
    }
   ],
   "source": [
    "# optimizer.probe\n",
    "    # WOFOST TSUM1, TSUM2\n",
    "\n",
    "WOFOST_params = {    \n",
    "    \"rice_eu\" : (875, 625),\n",
    "    \"rice_irri\" : (800, 465),\n",
    "    \"rice_501\" : (875, 625),\n",
    "    \"rice_HYV_IR8\" : (800, 465),\n",
    "    \"Rice_IR64616H_DS\" : (1420, 680),\n",
    "    \"Rice_IR64616H_WS\" : (1500, 580),\n",
    "    \"Rice_IR64\" : (1570, 770),\n",
    "    \"rice_IR72\" : (1420, 630),\n",
    "    \"Rice_IR72_DS\" : (1420, 630),\n",
    "    \"Rice_IR72_WS\" : (1550, 600),\n",
    "    \"Rice_IR8A\" : (1633, 506),\n",
    "}\n",
    "\n",
    "for variety in WOFOST_params:\n",
    "    print(\"probing variety\",variety)\n",
    "\n",
    "    optimizer.probe(\n",
    "        params={\n",
    "            'SDJBVP': WOFOST_params[variety][0]/2,\n",
    "            'SDJRPR': WOFOST_params[variety][0]/2,\n",
    "            'SDJMatu1': WOFOST_params[variety][1]/2,\n",
    "            'SDJMatu2': WOFOST_params[variety][1]/2,\n",
    "        },\n",
    "        lazy=False,\n",
    "    )"
   ]
  },
  {
   "cell_type": "code",
   "execution_count": null,
   "metadata": {},
   "outputs": [],
   "source": [
    "optimizer.maximize(init_points=10, n_iter=10)"
   ]
  },
  {
   "cell_type": "code",
   "execution_count": null,
   "metadata": {},
   "outputs": [],
   "source": [
    "xx"
   ]
  },
  {
   "cell_type": "code",
   "execution_count": null,
   "metadata": {},
   "outputs": [],
   "source": [
    "# https://github.com/fmfn/BayesianOptimization/blob/master/examples/exploitation_vs_exploration.ipynb\n",
    "optimizer.maximize(n_iter=10, acq=\"ucb\", kappa=10) # \n",
    "optimizer.maximize(n_iter=10, acq=\"ei\", xi=1e-4)"
   ]
  },
  {
   "cell_type": "code",
   "execution_count": null,
   "metadata": {},
   "outputs": [
    {
     "data": {
      "text/plain": [
       "{'target': 0.03955217654494106,\n",
       " 'params': {'SDJBVP': 200.0,\n",
       "  'SDJMatu1': 330.56294200127616,\n",
       "  'SDJMatu2': 375.0,\n",
       "  'SDJRPR': 200.0}}"
      ]
     },
     "execution_count": 21,
     "metadata": {},
     "output_type": "execute_result"
    }
   ],
   "source": [
    "optimizer.max"
   ]
  }
 ],
 "metadata": {
  "kernelspec": {
   "display_name": "Python 3.9.6 64-bit ('venv_SARRA_Py')",
   "language": "python",
   "name": "python3"
  },
  "language_info": {
   "codemirror_mode": {
    "name": "ipython",
    "version": 3
   },
   "file_extension": ".py",
   "mimetype": "text/x-python",
   "name": "python",
   "nbconvert_exporter": "python",
   "pygments_lexer": "ipython3",
   "version": "3.9.6"
  },
  "orig_nbformat": 4,
  "vscode": {
   "interpreter": {
    "hash": "59596bfa884b38bda8229050bd743febcad69ace13cb01a56f57ffd48d5b3a13"
   }
  }
 },
 "nbformat": 4,
 "nbformat_minor": 2
}
