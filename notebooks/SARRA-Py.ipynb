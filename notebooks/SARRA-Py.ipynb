{
 "cells": [
  {
   "cell_type": "code",
   "execution_count": 4,
   "metadata": {},
   "outputs": [],
   "source": [
    "import numpy as np"
   ]
  },
  {
   "cell_type": "code",
   "execution_count": 5,
   "metadata": {},
   "outputs": [],
   "source": [
    "def Meteo0DegToRad(LatDeg):\n",
    "    \"\"\" Module n°3 - Meteo0DegToRad\n",
    "\n",
    "    Args:\n",
    "        LatDeg (_type_): _description_\n",
    "\n",
    "    Returns:\n",
    "        _type_: _description_\n",
    "    \"\"\"\n",
    "    LatRad = LatDeg*np.pi/180\n",
    "    return LatRad\n",
    "\n",
    "\n",
    "\n",
    "def Meteo1AVGTempHum():"
   ]
  },
  {
   "cell_type": "code",
   "execution_count": null,
   "metadata": {},
   "outputs": [],
   "source": []
  }
 ],
 "metadata": {
  "interpreter": {
   "hash": "59596bfa884b38bda8229050bd743febcad69ace13cb01a56f57ffd48d5b3a13"
  },
  "kernelspec": {
   "display_name": "Python 3.9.6 64-bit ('venv_SARRA_Py')",
   "language": "python",
   "name": "python3"
  },
  "language_info": {
   "codemirror_mode": {
    "name": "ipython",
    "version": 3
   },
   "file_extension": ".py",
   "mimetype": "text/x-python",
   "name": "python",
   "nbconvert_exporter": "python",
   "pygments_lexer": "ipython3",
   "version": "3.9.6"
  },
  "orig_nbformat": 4
 },
 "nbformat": 4,
 "nbformat_minor": 2
}
