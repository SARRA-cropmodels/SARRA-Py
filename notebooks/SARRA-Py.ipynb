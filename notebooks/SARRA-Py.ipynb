{
 "cells": [
  {
   "cell_type": "code",
   "execution_count": 1,
   "metadata": {},
   "outputs": [],
   "source": [
    "import numpy as np\n",
    "import pandas as pd\n",
    "from pcse.db import NASAPowerWeatherDataProvider\n",
    "import datetime\n",
    "from matplotlib import pyplot as plt\n",
    "from tqdm import tqdm as tqdm"
   ]
  },
  {
   "cell_type": "markdown",
   "metadata": {},
   "source": [
    "# Parameters"
   ]
  },
  {
   "cell_type": "code",
   "execution_count": 2,
   "metadata": {},
   "outputs": [],
   "source": [
    "paramVariete = {\"TBase\":8,\n",
    "                \"TOpt1\":26,\n",
    "                \"TOpt2\":34,\n",
    "                \"TLim\":44,\n",
    "                \"VRacLevee\":1.0,\n",
    "                \"VRacBVP\":1.0,\n",
    "                \"VRacPSP\":1.0,\n",
    "                \"VRacRPR\":1.0,\n",
    "                \"VRacMatu1\":1.0,\n",
    "                \"VRacMatu2\":1.0,\n",
    "                \"SDJLevee\":50.0,\n",
    "                \"SDJBVP\":400,\n",
    "                \"SDJRPR\":400,\n",
    "                \"SDJMatu1\":100,\n",
    "                \"SDJMatu2\":100,\n",
    "                \"kcMax\":0.5,\n",
    "                \"PFactor\":0.5,\n",
    "                \"seuilCstrMortality\":4,\n",
    "                \"PPSens\":1,\n",
    "                'txAssimBVP':1,\n",
    "                'txAssimMatu1':2,\n",
    "                'txAssimMatu2':3,\n",
    "                }\n",
    "\n",
    "paramITK = {\"humSatMc\":0, # humidité des résidus de couverture ?\n",
    "            \"biomIniMc\":0, # Biomasse des résidues de couverture (Mulch). Unités : kg/ha\n",
    "            \"profRacIni\":1,\n",
    "            \"irrigAuto\":True,\n",
    "            \"irrigAutoTarget\":0.5,\n",
    "            \"maxIrrig\":20,\n",
    "            \"precision\":0.1,\n",
    "            \"surfMc\":0.0,\n",
    "            \"seuilEauSemis\":5.0,\n",
    "            \"mulch\":10,\n",
    "            \"coefMc\":1,\n",
    "            \"nbjTestSemis\":3,\n",
    "            \"seuilCstrMortality\":10,\n",
    "            }\n",
    "\n",
    "paramTypeSol = {\"ru\":10,\n",
    "                \"epaisseurSurf\":0.2,\n",
    "                \"stockIniSurf\":5,\n",
    "                \"seuilRuiss\":1, # qté d'eau à partir de laquelle on entre dans un régime de ruissellement (mm)\n",
    "                \"pourcRuiss\":0.5, # pourcentge de pluie qui ruisselle passé le seuil seuilRuiss (pct décimal)\n",
    "                \"stockIniProf\":0.5,\n",
    "                \"epaisseurProf\" : 1,\n",
    "                }\n",
    "\n",
    "# ruRac = paramTypeSol[\"ru\"] * paramITK[\"profRacIni\"] / 1000 # alt name rRac\n",
    "# ruSurf = paramTypeSol[\"epaisseurSurf\"] / 1000 * paramTypeSol[\"ru\"]"
   ]
  },
  {
   "cell_type": "markdown",
   "metadata": {},
   "source": [
    "# Initialization of variables"
   ]
  },
  {
   "cell_type": "code",
   "execution_count": 3,
   "metadata": {},
   "outputs": [
    {
     "name": "stdout",
     "output_type": "stream",
     "text": [
      "Weather data provided by: NASAPowerWeatherDataProvider\n",
      "--------Description---------\n",
      "NASA/POWER CERES/MERRA2 Native Resolution Daily Data\n",
      "----Site characteristics----\n",
      "Elevation:    3.5\n",
      "Latitude:  52.000\n",
      "Longitude:  5.000\n",
      "Data available for 1984-01-01 - 2022-06-21\n",
      "Number of missing days: 1\n",
      "\n"
     ]
    }
   ],
   "source": [
    "# getting weather data\n",
    "weatherdata = NASAPowerWeatherDataProvider(longitude=5, latitude=52)\n",
    "print(weatherdata)\n",
    "df = pd.DataFrame(weatherdata.export())\n",
    "df = df[(df[\"DAY\"]>=datetime.date(2020,1,1)) & (df[\"DAY\"]<=datetime.date(2020,12,31))]\n",
    "df.head()\n",
    "\n",
    "df[\"DOY\"] = df.apply(lambda x: x[\"DAY\"].timetuple().tm_yday, axis=1)\n",
    "\n",
    "# initializing variables\n",
    "grid_width = 1\n",
    "grid_height = 1"
   ]
  },
  {
   "cell_type": "code",
   "execution_count": 4,
   "metadata": {},
   "outputs": [],
   "source": [
    "stockSurfaceInit = 10\n",
    "\n",
    "def init():\n",
    "        \n",
    "        data = {\n",
    "        \"ddj\": np.zeros(shape=(grid_width, grid_height, len(df))),\n",
    "        \"sdj\": np.zeros(shape=(grid_width, grid_height, len(df))), # Somme de degrés.jours depuis la germination. Unité : °C.d\n",
    "        \n",
    "        \n",
    "        \"rain\": df[\"RAIN\"].values.reshape(grid_width, grid_height, len(df[\"RAIN\"].values)), # pluviométrie (mm)\n",
    "        \"tpMoy\": df[\"TEMP\"].values.reshape(grid_width, grid_height, len(df[\"TEMP\"].values)),\n",
    "        \"numPhase\": np.zeros(shape=(grid_width, grid_height, len(df))),\n",
    "        \"ruRac\": np.full((grid_width, grid_height, len(df)), paramITK[\"profRacIni\"] / 1000 * paramTypeSol[\"ru\"]),\n",
    "        \"ruSurf\": np.full((grid_width, grid_height, len(df)),paramTypeSol[\"epaisseurSurf\"] / 1000 * paramTypeSol[\"ru\"]),\n",
    "        \"biomMc\": np.full((grid_width, grid_height, len(df)),paramITK[\"biomIniMc\"]), # Biomasse des résidues de couverture (Mulch). Unités : kg/ha\n",
    "        \"nbJourCompte\": np.zeros(shape=(grid_width, grid_height, len(df))),\n",
    "        \"stockSurface\" : np.full((grid_width, grid_height, len(df)),stockSurfaceInit), # Stock d'eau initial dans l'horizon de surface. Unité : mm\n",
    "        \"irrig\" : np.zeros(shape=(grid_width, grid_height, len(df))),\n",
    "        \"hum\" : np.zeros(shape=(grid_width, grid_height, len(df))), # Quantité d'eau maximum jusqu'au front d'humectation. Unités : mm\n",
    "        \"vRac\" : np.zeros(shape=(grid_width, grid_height, len(df))),\n",
    "        \"changePhase\" : np.zeros(shape=(grid_width, grid_height, len(df))),\n",
    "        \"stockRac\" : np.zeros(shape=(grid_width, grid_height, len(df))),\n",
    "        \"correctedIrrigation\" : np.zeros(shape=(grid_width, grid_height, len(df))),\n",
    "        \"irrigTotDay\" : np.zeros(shape=(grid_width, grid_height, len(df))),\n",
    "        \"ruIrr\" : np.zeros(shape=(grid_width, grid_height, len(df))),\n",
    "        \"stockIrr\" : np.zeros(shape=(grid_width, grid_height, len(df))),\n",
    "        \"eauDispo\" : np.zeros(shape=(grid_width, grid_height, len(df))), # Quantité journalière d'eau infiltrée dans le sol (moins le ruissellement). Unités : mm \n",
    "        \"stockMc\" : np.zeros(shape=(grid_width, grid_height, len(df))), # Stock d'eau dans les résidus (mulch). Unités : mm\n",
    "        \"lr\" : np.zeros(shape=(grid_width, grid_height, len(df))),\n",
    "        \"eauCaptee\" : np.zeros(shape=(grid_width, grid_height, len(df))),\n",
    "        \"cstr\" : np.zeros(shape=(grid_width, grid_height, len(df))),\n",
    "        \"ru\" : np.zeros(shape=(grid_width, grid_height, len(df))),\n",
    "        \"dayVrac\" : np.zeros(shape=(grid_width, grid_height, len(df))),\t\n",
    "        \"deltaRur\" : np.zeros(shape=(grid_width, grid_height, len(df))),\n",
    "        \"profRu\" : np.zeros(shape=(grid_width, grid_height, len(df))),\n",
    "        \"stRuMax\" : np.zeros(shape=(grid_width, grid_height, len(df))),\n",
    "        \"stRuSurfPrec\" : np.zeros(shape=(grid_width, grid_height, len(df))),\n",
    "        \"eauTranspi\" : np.zeros(shape=(grid_width, grid_height, len(df))),\n",
    "        \"stockTotal\" : np.zeros(shape=(grid_width, grid_height, len(df))),\n",
    "        \"dr\" : np.zeros(shape=(grid_width, grid_height, len(df))),\n",
    "        \"stockSurfaceTemp\" : np.zeros(shape=(grid_width, grid_height, len(df))),\n",
    "        \"feswTemp\" : np.zeros(shape=(grid_width, grid_height, len(df))),\n",
    "        \"ltrTemp\" : np.zeros(shape=(grid_width, grid_height, len(df))),\n",
    "        \"bioMc\" : np.zeros(shape=(grid_width, grid_height, len(df))),\n",
    "        \"kceTemp\" : np.zeros(shape=(grid_width, grid_height, len(df))),\n",
    "        \"etp\": np.full((grid_width, grid_height, len(df)),df[\"ET0\"].values),\n",
    "        \"evalPotTemp\": np.full((grid_width, grid_height, len(df)),df[\"ET0\"].values),\n",
    "        \"stockMcTemp\": np.zeros(shape=(grid_width, grid_height, len(df))),\n",
    "        \"FEMcW\": np.zeros(shape=(grid_width, grid_height, len(df))),\n",
    "        \"evapTemp\": np.zeros(shape=(grid_width, grid_height, len(df))),\n",
    "        \"ftsw\": np.zeros(shape=(grid_width, grid_height, len(df))),\n",
    "        \"ltr\": np.zeros(shape=(grid_width, grid_height, len(df))),\n",
    "        \"kcp\": np.zeros(shape=(grid_width, grid_height, len(df))),\n",
    "        \"trPot\": np.zeros(shape=(grid_width, grid_height, len(df))),\n",
    "        \"pFact\": np.zeros(shape=(grid_width, grid_height, len(df))),\n",
    "        \"tr\": np.zeros(shape=(grid_width, grid_height, len(df))),\n",
    "        \"evap\": np.zeros(shape=(grid_width, grid_height, len(df))),\n",
    "        \"trSurf\": np.zeros(shape=(grid_width, grid_height, len(df))),\n",
    "        \"consoRur\": np.zeros(shape=(grid_width, grid_height, len(df))),\n",
    "        \"seuilTempPhaseSuivante\": np.zeros(shape=(grid_width, grid_height, len(df))),\n",
    "        \"phasePhotoper\": np.zeros(shape=(grid_width, grid_height, len(df))),\n",
    "        \"seuilTempPhasePrec\": np.zeros(shape=(grid_width, grid_height, len(df))),\n",
    "        \"sommeDegresJourPhasePrec\": np.zeros(shape=(grid_width, grid_height, len(df))),\n",
    "        \"nbjStress\": np.zeros(shape=(grid_width, grid_height, len(df))),\n",
    "        \"dateRecolte\": np.zeros(shape=(grid_width, grid_height, len(df))),\n",
    "        \"dateFin\": np.zeros(shape=(grid_width, grid_height, len(df))),\n",
    "        \"TMoyMatu\": np.zeros(shape=(grid_width, grid_height, len(df))),\n",
    "        \"jourFinPP\": np.zeros(shape=(grid_width, grid_height, len(df))),\n",
    "        \"deltaBiomasseAerienne\": np.zeros(shape=(grid_width, grid_height, len(df))),\n",
    "        \"profRu\": np.full((grid_width, grid_height, len(df)),paramTypeSol[\"epaisseurSurf\"] + paramTypeSol[\"epaisseurProf\"])\n",
    "        \n",
    "\n",
    "        }\n",
    "        return data"
   ]
  },
  {
   "cell_type": "code",
   "execution_count": 5,
   "metadata": {},
   "outputs": [],
   "source": [
    "def initialisationSol(data, paramTypeSol):\n",
    "\t\"\"\"\n",
    " \t\t//remplacé par \n",
    " \t   \tlet  truSurf= paramTypeSol.epaisseurSurf / 1000 * paramTypeSol.ru\n",
    " \t   \truSurf = truSurf\n",
    "\t\tru = paramTypeSol.ru\n",
    "\t\tlet rRac= paramTypeSol.ru * paramITK.profRacIni / 1000\n",
    "\t\truRac = rRac\n",
    "\t\t//fin remplacé par \n",
    "\t    //ruSurf= paramTypeSol.EpaisseurSurf\",solNames,  typesSol) / 1000 * paramTypeSol.Ru\",solNames,  typesSol)\n",
    "\t\t//modif 10/06/2015  plus de pft\n",
    "\t    //let pfT = paramTypeSol.EpaisseurSurf\",solNames,  typesSol) * paramTypeSol.HumPF\",solNames,  typesSol)\n",
    "\t    //pfTranspi = pfT\n",
    "\t    //let sT = paramTypeSol.StockIniSurf\",solNames,  typesSol) - pfT/2 + paramTypeSol.StockIniProf\",solNames,  typesSol)\n",
    "\t    let sT = paramTypeSol.stockIniSurf + paramTypeSol.stockIniProf\n",
    "\t    stockTotal = sT\n",
    "\t    profRu = paramTypeSol.epaisseurSurf  + paramTypeSol.epaisseurProf\n",
    "\t\t//modif 10/06/2015 hum mis a au moins ruSurf\n",
    "\t\tlet tHum =  Max(truSurf,rRac)\t \n",
    "\t\thum = Max (sT, tHum)\n",
    "\t\t}\n",
    "\t} // fin initialisationSol \n",
    "\t\"\"\"\n",
    "\t# ruSurf (truSurf) : Reserve utile de l'horizon de surface. Unités :mm\n",
    "\t# data[\"ruSurf\"] =  paramTypeSol[\"epaisseurSurf\"] / 1000 * paramTypeSol[\"ru\"]\n",
    "\n",
    "\t# ruRac (rRac) : Capacité maximum d'eau rapporté à la profondeur racinaire en cours. Unité : mm\n",
    "\t# data[\"ruRac\"] =  np.full((grid_width, grid_height, len(df)), paramITK[\"profRacIni\"] / 1000 * paramTypeSol[\"ru\"])\n",
    "\n",
    "\t# stockTotal (sT) : Stock d'eau total sur l'ensemble des réservoir. Unités : mm\n",
    "\tdata[\"stockTotal\"] = paramTypeSol[\"stockIniSurf\"] + paramTypeSol[\"stockIniProf\"] \n",
    "\n",
    "\t# Profondeur maximale de sol. Unités : mm\n",
    "\t# data[\"profRu\"] = paramTypeSol[\"epaisseurSurf\"] + paramTypeSol[\"epaisseurProf\"]\n",
    "\n",
    "\t# valeur maximale entre la réserve utile du réservoir de surface et la réserve utile racinaire (mm)\n",
    "\tdata[\"tHum\"] = np.maximum(data[\"ruSurf\"], data[\"ruRac\"])\n",
    "\n",
    "\t# Quantité d'eau maximum jusqu'au front d'humectation. Unités : mm\n",
    "\tdata[\"hum\"] = np.maximum(data[\"stockTotal\"], data[\"tHum\"])\n",
    "\n",
    "\treturn data"
   ]
  },
  {
   "cell_type": "markdown",
   "metadata": {},
   "source": [
    "# Bilan phéno"
   ]
  },
  {
   "cell_type": "markdown",
   "metadata": {},
   "source": [
    "## Fonctions"
   ]
  },
  {
   "cell_type": "code",
   "execution_count": 6,
   "metadata": {},
   "outputs": [],
   "source": [
    "def EvalDegresJourSarrahV3(j, data, paramVariete):\n",
    "    \n",
    "\n",
    "    data[\"ddj\"][:,:,j] = np.where(\n",
    "                data[\"tpMoy\"][:,:,j] <= paramVariete[\"TOpt2\"],\n",
    "                np.maximum(np.minimum(paramVariete[\"TOpt1\"], data[\"tpMoy\"][:,:,j]), paramVariete[\"TBase\"]) - paramVariete[\"TBase\"],\n",
    "                (paramVariete[\"TOpt1\"] - paramVariete[\"TBase\"]) * (1 - ((np.minimum(paramVariete[\"TLim\"], data[\"tpMoy\"][:,:,j]) - paramVariete[\"TOpt2\"])\n",
    "                    / (paramVariete[\"TLim\"] - paramVariete[\"TOpt2\"]))),\n",
    "                )  \n",
    "\n",
    "    data[\"sdj\"][:,:,j] = np.where(data[\"numPhase\"][:,:,j] >= 1,\n",
    "                                data[\"sdj\"][:,:,j] + data[\"ddj\"][:,:,j],\n",
    "                                0,\n",
    "                                )\n",
    "\n",
    "    return data\n"
   ]
  },
  {
   "cell_type": "code",
   "execution_count": 7,
   "metadata": {},
   "outputs": [],
   "source": [
    "def EvalPhenoSarrahV3(j, data, paramITK):\n",
    "\n",
    "    #EvalPhenoSarrahV3\n",
    "\n",
    "    # test de germination\n",
    "    data[\"changePhase\"][:,:,j] = np.where(\n",
    "                                    # test 1\n",
    "                                    data[\"numPhase\"][:,:,j]==0,\n",
    "                                    # if 1 true\n",
    "                                    np.where(\n",
    "                                        data[\"stockSurface\"][:,:,j] - data[\"ruSurf\"][:,:,j]/10 >= paramITK[\"seuilEauSemis\"],\n",
    "                                        1,\n",
    "                                        0,\n",
    "                                    ),\n",
    "                                    # if 1 false                                    \n",
    "                                    np.where(\n",
    "                                        # test 2\n",
    "                                        (data[\"numPhase\"][:,:,j]==2) & (data[\"sdj\"][:,:,j]>= data[\"seuilTempPhaseSuivante\"][:,:,j]),\n",
    "                                        # if 2 true\n",
    "                                        1,\n",
    "                                        # if 2 false\n",
    "                                        np.where(\n",
    "                                            # test 3\n",
    "                                            data[\"numPhase\"][:,:,j] != 3,\n",
    "                                            # if 3 true\n",
    "                                            np.where(\n",
    "                                                # test 4\n",
    "                                                data[\"sdj\"][:,:,j] >= data[\"seuilTempPhaseSuivante\"][:,:,j],\n",
    "                                                # if 4 true\n",
    "                                                1,\n",
    "                                                # if 4 false\n",
    "                                                0,\n",
    "                                            ),\n",
    "                                            # if 3 false\n",
    "                                            np.where(\n",
    "                                                # test 5\n",
    "                                                data[\"phasePhotoper\"][:,:,j] == 0,\n",
    "                                                # if 5 true\n",
    "                                                1,\n",
    "                                                # if 5 false\n",
    "                                                0,\n",
    "                                            ),\n",
    "                                        ),\n",
    "                                    ),\n",
    "                                )\n",
    "\n",
    "    \n",
    "    data[\"seuilTempPhaseSuivante\"][:,:,j] = np.where(\n",
    "                                                (data[\"numPhase\"][:,:,j]==0) & (data[\"stockSurface\"][:,:,j] - data[\"ruSurf\"][:,:,j]/10 >= paramITK[\"seuilEauSemis\"]),\n",
    "                                                paramVariete[\"SDJLevee\"],\n",
    "                                                data[\"seuilTempPhaseSuivante\"][:,:,j],\n",
    "                                            )\n",
    "\n",
    "    data[\"sommeDegresJourPhasePrec\"][:,:,j] = np.where(\n",
    "                                                    data[\"changePhase\"][:,:,j] == 1,\n",
    "                                                    data[\"seuilTempPhasePrec\"][:,:,j],\n",
    "                                                    data[\"sommeDegresJourPhasePrec\"][:,:,j],\n",
    "                                                )\n",
    "\n",
    "    data[\"numPhase\"][:,:,j] = np.where(data[\"changePhase\"][:,:,j] == 1,\n",
    "                                                        data[\"numPhase\"][:,:,j] + 1 ,\n",
    "                                                        data[\"numPhase\"][:,:,j],\n",
    "                                                        )\n",
    "\n",
    "    data[\"seuilTempPhaseSuivante\"][:,:,j] = np.where(\n",
    "                                                (data[\"changePhase\"][:,:,j]==1),\n",
    "                                                np.where(\n",
    "                                                    (data[\"numPhase\"][:,:,j]==1),\n",
    "                                                    paramVariete[\"SDJLevee\"],\n",
    "                                                    np.where(\n",
    "                                                        data[\"numPhase\"][:,:,j]==2,\n",
    "                                                        data[\"seuilTempPhaseSuivante\"][:,:,j] + paramVariete[\"SDJBVP\"],\n",
    "                                                        np.where(\n",
    "                                                            data[\"numPhase\"][:,:,j]==4,\n",
    "                                                            data[\"sdj\"][:,:,j] + paramVariete[\"SDJRPR\"],\n",
    "                                                            np.where(\n",
    "                                                                data[\"numPhase\"][:,:,j]==5,\n",
    "                                                                data[\"seuilTempPhaseSuivante\"][:,:,j] + paramVariete[\"SDJMatu1\"],\n",
    "                                                                np.where(\n",
    "                                                                    data[\"numPhase\"][:,:,j]==6,\n",
    "                                                                    data[\"seuilTempPhaseSuivante\"][:,:,j] + paramVariete[\"SDJMatu2\"],\n",
    "                                                                    data[\"seuilTempPhaseSuivante\"][:,:,j],\n",
    "                                                                ),\n",
    "                                                            ),\n",
    "                                                        ),\n",
    "                                                    ),\n",
    "                                                ),\n",
    "                                                data[\"seuilTempPhaseSuivante\"][:,:,j],\n",
    "                                            )\n",
    "                                                \n",
    "\n",
    "\n",
    "    data[\"phasePhotoper\"][:,:,j] = np.where(\n",
    "                                            (data[\"changePhase\"][:,:,j]==1) & (data[\"numPhase\"][:,:,j]==3),\n",
    "                                            1,\n",
    "                                            data[\"phasePhotoper\"][:,:,j],\n",
    "                                            )           \n",
    "\n",
    "    data[\"nbjStress\"][:,:,j] = np.where(\n",
    "                                            (data[\"changePhase\"][:,:,j]==1) & (data[\"numPhase\"][:,:,j]==7),\n",
    "                                            paramVariete[\"seuilCstrMortality\"] + 1,\n",
    "                                            data[\"nbjStress\"][:,:,j],\n",
    "                                            )\n",
    "\n",
    "    data[\"dateRecolte\"][:,:,j] = np.where(\n",
    "                                            (data[\"changePhase\"][:,:,j]==1) & (data[\"numPhase\"][:,:,j]==7),\n",
    "                                            j,\n",
    "                                            data[\"dateRecolte\"][:,:,j],\n",
    "                                            )\n",
    "    \n",
    "    return data                            "
   ]
  },
  {
   "cell_type": "code",
   "execution_count": 8,
   "metadata": {},
   "outputs": [],
   "source": [
    "def PPTmoySarrahV3(j, data, paramVariete):\n",
    "\n",
    "    data[\"jourFinPP\"][:,:,j] = np.where(\n",
    "                                    data[\"phasePhotoper\"][:,:,j] == 1,\n",
    "                                    data[\"dateFin\"][:,:,j] - ((paramVariete[\"SDJMatu1\"] + paramVariete[\"SDJMatu2\"] + paramVariete[\"SDJRPR\"]) / (data[\"TMoyMatu\"][:,:,j] - paramVariete[\"TBase\"])),\n",
    "                                    data[\"jourFinPP\"][:,:,j],\n",
    "                                    )\n",
    "\n",
    "    data[\"jourFinPP\"][:,:,j] = np.where(\n",
    "                                    (data[\"phasePhotoper\"][:,:,j] == 1) & (data[\"jourFinPP\"][:,:,j]<0),\n",
    "                                    365 + data[\"jourFinPP\"][:,:,j],\n",
    "                                    data[\"jourFinPP\"][:,:,j],\n",
    "                                    )\n",
    "\n",
    "    data[\"phasePhotoper\"][:,:,j] = np.where(\n",
    "                                    (data[\"phasePhotoper\"][:,:,j] == 1),\n",
    "                                    np.where(\n",
    "                                        j > data[\"jourFinPP\"][:,:,j],\n",
    "                                        0,\n",
    "                                        data[\"phasePhotoper\"][:,:,j],\n",
    "                                    ) if paramVariete[\"PPSens\"] <= 1 else 0,\n",
    "                                    data[\"phasePhotoper\"][:,:,j],\n",
    "                                    )\n",
    "\n",
    "    data[\"changePhase\"][:,:,j] = np.where(\n",
    "                                    (data[\"phasePhotoper\"][:,:,j] == 1),\n",
    "                                    np.where(\n",
    "                                        j > data[\"jourFinPP\"][:,:,j],\n",
    "                                        1,\n",
    "                                        data[\"changePhase\"][:,:,j],\n",
    "                                    ) if paramVariete[\"PPSens\"] <= 1 else 0,\n",
    "                                    data[\"changePhase\"][:,:,j],\n",
    "                                    )\n",
    "\n",
    "    return data"
   ]
  },
  {
   "cell_type": "code",
   "execution_count": 9,
   "metadata": {},
   "outputs": [],
   "source": [
    "def MortaliteSarraV3(dat, paramITK):\n",
    "\n",
    "    data['nbJourCompte'][:,:,j] = np.where(\n",
    "                                        data[\"numPhase\"][:,:,j] == 2,\n",
    "                                        data['nbJourCompte'][:,:,j] + 1,\n",
    "                                        data['nbJourCompte'][:,:,j],\n",
    "                                        )\n",
    "\n",
    "    data[\"nbjStress\"][:,:,j] = np.where(\n",
    "                                        (data[\"numPhase\"][:,:,j] == 2) & (data[\"nbJourCompte\"][:,:,j] < paramITK[\"nbjTestSemis\"]) & (data[\"deltaBiomasseAerienne\"][:,:,j] < 0),\n",
    "                                        data[\"nbjStress\"][:,:,j] + 1,\n",
    "                                        data[\"nbjStress\"][:,:,j],                           \n",
    "                                        )\n",
    "\n",
    "    data[\"nbJourCompte\"][:,:,j] = np.where(\n",
    "                                        (data[\"numPhase\"][:,:,j] == 2) & (data[\"nbjStress\"][:,:,j] < paramITK[\"seuilCstrMortality\"]),\n",
    "                                        0,\n",
    "                                        data[\"nbJourCompte\"][:,:,j],\n",
    "                                        )\n",
    "\n",
    "    data[\"numPhase\"][:,:,j] = np.where(\n",
    "                                        (data[\"numPhase\"][:,:,j] == 2) & (data[\"nbjStress\"][:,:,j] < paramITK[\"seuilCstrMortality\"]),\n",
    "                                        0,\n",
    "                                        data[\"numPhase\"][:,:,j],\n",
    "                                        )\n",
    "\n",
    "    data[\"ruRac\"][:,:,j] = np.where(\n",
    "                                        (data[\"numPhase\"][:,:,j] == 2) & (data[\"nbjStress\"][:,:,j] < paramITK[\"seuilCstrMortality\"]),\n",
    "                                        0,\n",
    "                                        data[\"ruRac\"][:,:,j],\n",
    "                                        )\n",
    "\n",
    "    data[\"nbjStress\"][:,:,j] = np.where(\n",
    "                                        (data[\"numPhase\"][:,:,j] == 2) & (data[\"nbjStress\"][:,:,j] < paramITK[\"seuilCstrMortality\"]),\n",
    "                                        0,\n",
    "                                        data[\"nbjStress\"][:,:,j],\n",
    "                                        )\n",
    "\n",
    "    return data\n",
    "                                    \n"
   ]
  },
  {
   "cell_type": "markdown",
   "metadata": {},
   "source": [
    "## Bilan"
   ]
  },
  {
   "cell_type": "code",
   "execution_count": 10,
   "metadata": {},
   "outputs": [],
   "source": [
    "def bilanPheno(j, data, paramITK, paramTypeSol, paramVariete):\n",
    "\t\n",
    "    \"\"\"\n",
    "    data['numPhase'][:,:,j] = np.where(\n",
    "                                    data['numPhase'][:,:,j]==7,\n",
    "                                    0,\n",
    "                                    data['numPhase'][:,:,j],\n",
    "                                    )\n",
    "\n",
    "    data['ruRac'][:,:,j] = np.where(\n",
    "                                    data['numPhase'][:,:,j]==7,\n",
    "                                    0,\n",
    "                                    data['ruRac'][:,:,j],\n",
    "                                    )\n",
    "\n",
    "    data['nbJourCompte'][:,:,j] = np.where(\n",
    "                                    data['numPhase'][:,:,j]==7,\n",
    "                                    0,\n",
    "                                    data['nbJourCompte'][:,:,j],\n",
    "                                    )\n",
    "    \"\"\"\n",
    "    \n",
    "    # if (j >= (dateDebut + varDateSemis) && nbjStress < paramVariete.seuilCstrMortality ){\n",
    "\t\n",
    "\n",
    "    data = EvalDegresJourSarrahV3(j, data, paramVariete)\n",
    "    data = EvalPhenoSarrahV3(j, data, paramITK)\n",
    "    #data = PPTmoySarrahV3(data, paramVariete)\n",
    "    #data = MortaliteSarraV3(data, paramITK)\n",
    "\n",
    "    # bilan carbo\n",
    "\n",
    "    # else \n",
    "\n",
    "    # bilan hydro\n",
    "\n",
    "    return data\n"
   ]
  },
  {
   "cell_type": "markdown",
   "metadata": {},
   "source": [
    "## Run partiel "
   ]
  },
  {
   "cell_type": "code",
   "execution_count": 11,
   "metadata": {},
   "outputs": [
    {
     "name": "stderr",
     "output_type": "stream",
     "text": [
      "100%|██████████| 366/366 [00:00<00:00, 1130.32it/s]\n"
     ]
    }
   ],
   "source": [
    "data = init()\n",
    "for j in tqdm(range(len(df))):\n",
    "    data = bilanPheno(j, data, paramITK, paramTypeSol, paramVariete)"
   ]
  },
  {
   "cell_type": "code",
   "execution_count": 12,
   "metadata": {},
   "outputs": [
    {
     "data": {
      "text/plain": [
       "array([[[1., 1., 1., 1., 1., 1., 1., 1., 1., 1., 1., 1., 1., 1., 1., 1.,\n",
       "         1., 1., 1., 1., 1., 1., 1., 1., 1., 1., 1., 1., 1., 1., 1., 1.,\n",
       "         1., 1., 1., 1., 1., 1., 1., 1., 1., 1., 1., 1., 1., 1., 1., 1.,\n",
       "         1., 1., 1., 1., 1., 1., 1., 1., 1., 1., 1., 1., 1., 1., 1., 1.,\n",
       "         1., 1., 1., 1., 1., 1., 1., 1., 1., 1., 1., 1., 1., 1., 1., 1.,\n",
       "         1., 1., 1., 1., 1., 1., 1., 1., 1., 1., 1., 1., 1., 1., 1., 1.,\n",
       "         1., 1., 1., 1., 1., 1., 1., 1., 1., 1., 1., 1., 1., 1., 1., 1.,\n",
       "         1., 1., 1., 1., 1., 1., 1., 1., 1., 1., 1., 1., 1., 1., 1., 1.,\n",
       "         1., 1., 1., 1., 1., 1., 1., 1., 1., 1., 1., 1., 1., 1., 1., 1.,\n",
       "         1., 1., 1., 1., 1., 1., 1., 1., 1., 1., 1., 1., 1., 1., 1., 1.,\n",
       "         1., 1., 1., 1., 1., 1., 1., 1., 1., 1., 1., 1., 1., 1., 1., 1.,\n",
       "         1., 1., 1., 1., 1., 1., 1., 1., 1., 1., 1., 1., 1., 1., 1., 1.,\n",
       "         1., 1., 1., 1., 1., 1., 1., 1., 1., 1., 1., 1., 1., 1., 1., 1.,\n",
       "         1., 1., 1., 1., 1., 1., 1., 1., 1., 1., 1., 1., 1., 1., 1., 1.,\n",
       "         1., 1., 1., 1., 1., 1., 1., 1., 1., 1., 1., 1., 1., 1., 1., 1.,\n",
       "         1., 1., 1., 1., 1., 1., 1., 1., 1., 1., 1., 1., 1., 1., 1., 1.,\n",
       "         1., 1., 1., 1., 1., 1., 1., 1., 1., 1., 1., 1., 1., 1., 1., 1.,\n",
       "         1., 1., 1., 1., 1., 1., 1., 1., 1., 1., 1., 1., 1., 1., 1., 1.,\n",
       "         1., 1., 1., 1., 1., 1., 1., 1., 1., 1., 1., 1., 1., 1., 1., 1.,\n",
       "         1., 1., 1., 1., 1., 1., 1., 1., 1., 1., 1., 1., 1., 1., 1., 1.,\n",
       "         1., 1., 1., 1., 1., 1., 1., 1., 1., 1., 1., 1., 1., 1., 1., 1.,\n",
       "         1., 1., 1., 1., 1., 1., 1., 1., 1., 1., 1., 1., 1., 1., 1., 1.,\n",
       "         1., 1., 1., 1., 1., 1., 1., 1., 1., 1., 1., 1., 1., 1.]]])"
      ]
     },
     "execution_count": 12,
     "metadata": {},
     "output_type": "execute_result"
    }
   ],
   "source": [
    "data[\"changePhase\"]"
   ]
  },
  {
   "cell_type": "code",
   "execution_count": 224,
   "metadata": {},
   "outputs": [
    {
     "data": {
      "text/plain": [
       "array([[[  0.,   1.,   2.,   3.,   4.,   5.,   6.,   7.,   8.,   9.,\n",
       "          10.,  11.,  12.,  13.,  14.,  15.,  16.,  17.,  18.,  19.,\n",
       "          20.,  21.,  22.,  23.,  24.,  25.,  26.,  27.,  28.,  29.,\n",
       "          30.,  31.,  32.,  33.,  34.,  35.,  36.,  37.,  38.,  39.,\n",
       "          40.,  41.,  42.,  43.,  44.,  45.,  46.,  47.,  48.,  49.,\n",
       "          50.,  51.,  52.,  53.,  54.,  55.,  56.,  57.,  58.,  59.,\n",
       "          60.,  61.,  62.,  63.,  64.,  65.,  66.,  67.,  68.,  69.,\n",
       "          70.,  71.,  72.,  73.,  74.,  75.,  76.,  77.,  78.,  79.,\n",
       "          80.,  81.,  82.,  83.,  84.,  85.,  86.,  87.,  88.,  89.,\n",
       "          90.,  91.,  92.,  93.,  94.,  95.,  96.,  97.,  98.,  99.,\n",
       "         100., 101., 102., 103., 104., 105., 106., 107., 108., 109.,\n",
       "         110., 111., 112., 113., 114., 115., 116., 117., 118., 119.,\n",
       "         120., 121., 122., 123., 124., 125., 126., 127., 128., 129.,\n",
       "         130., 131., 132., 133., 134., 135., 136., 137., 138., 139.,\n",
       "         140., 141., 142., 143., 144., 145., 146., 147., 148., 149.,\n",
       "         150., 151., 152., 153., 154., 155., 156., 157., 158., 159.,\n",
       "         160., 161., 162., 163., 164., 165., 166., 167., 168., 169.,\n",
       "         170., 171., 172., 173., 174., 175., 176., 177., 178., 179.,\n",
       "         180., 181., 182., 183., 184., 185., 186., 187., 188., 189.,\n",
       "         190., 191., 192., 193., 194., 195., 196., 197., 198., 199.,\n",
       "         200., 201., 202., 203., 204., 205., 206., 207., 208., 209.,\n",
       "         210., 211., 212., 213., 214., 215., 216., 217., 218., 219.,\n",
       "         220., 221., 222., 223., 224., 225., 226., 227., 228., 229.,\n",
       "         230., 231., 232., 233., 234., 235., 236., 237., 238., 239.,\n",
       "         240., 241., 242., 243., 244., 245., 246., 247., 248., 249.,\n",
       "         250., 251., 252., 253., 254., 255., 256., 257., 258., 259.,\n",
       "         260., 261., 262., 263., 264., 265., 266., 267., 268., 269.,\n",
       "         270., 271., 272., 273., 274., 275., 276., 277., 278., 279.,\n",
       "         280., 281., 282., 283., 284., 285., 286., 287., 288., 289.,\n",
       "         290., 291., 292., 293., 294., 295., 296., 297., 298., 299.,\n",
       "         300., 301., 302., 303., 304., 305., 306., 307., 308., 309.,\n",
       "         310., 311., 312., 313., 314., 315., 316., 317., 318., 319.,\n",
       "         320., 321., 322., 323., 324., 325., 326., 327., 328., 329.,\n",
       "         330., 331., 332., 333., 334., 335., 336., 337., 338., 339.,\n",
       "         340., 341., 342., 343., 344., 345., 346., 347., 348., 349.,\n",
       "         350., 351., 352., 353., 354., 355., 356., 357., 358., 359.,\n",
       "         360., 361., 362., 363., 364., 365.]]])"
      ]
     },
     "execution_count": 224,
     "metadata": {},
     "output_type": "execute_result"
    }
   ],
   "source": [
    "data[\"numPhase\"]"
   ]
  },
  {
   "cell_type": "code",
   "execution_count": 221,
   "metadata": {},
   "outputs": [
    {
     "data": {
      "text/plain": [
       "array([[[ 50.,  50., 400.,   0., 400., 100., 100.,   0.,   0.,   0.,\n",
       "           0.,   0.,   0.,   0.,   0.,   0.,   0.,   0.,   0.,   0.,\n",
       "           0.,   0.,   0.,   0.,   0.,   0.,   0.,   0.,   0.,   0.,\n",
       "           0.,   0.,   0.,   0.,   0.,   0.,   0.,   0.,   0.,   0.,\n",
       "           0.,   0.,   0.,   0.,   0.,   0.,   0.,   0.,   0.,   0.,\n",
       "           0.,   0.,   0.,   0.,   0.,   0.,   0.,   0.,   0.,   0.,\n",
       "           0.,   0.,   0.,   0.,   0.,   0.,   0.,   0.,   0.,   0.,\n",
       "           0.,   0.,   0.,   0.,   0.,   0.,   0.,   0.,   0.,   0.,\n",
       "           0.,   0.,   0.,   0.,   0.,   0.,   0.,   0.,   0.,   0.,\n",
       "           0.,   0.,   0.,   0.,   0.,   0.,   0.,   0.,   0.,   0.,\n",
       "           0.,   0.,   0.,   0.,   0.,   0.,   0.,   0.,   0.,   0.,\n",
       "           0.,   0.,   0.,   0.,   0.,   0.,   0.,   0.,   0.,   0.,\n",
       "           0.,   0.,   0.,   0.,   0.,   0.,   0.,   0.,   0.,   0.,\n",
       "           0.,   0.,   0.,   0.,   0.,   0.,   0.,   0.,   0.,   0.,\n",
       "           0.,   0.,   0.,   0.,   0.,   0.,   0.,   0.,   0.,   0.,\n",
       "           0.,   0.,   0.,   0.,   0.,   0.,   0.,   0.,   0.,   0.,\n",
       "           0.,   0.,   0.,   0.,   0.,   0.,   0.,   0.,   0.,   0.,\n",
       "           0.,   0.,   0.,   0.,   0.,   0.,   0.,   0.,   0.,   0.,\n",
       "           0.,   0.,   0.,   0.,   0.,   0.,   0.,   0.,   0.,   0.,\n",
       "           0.,   0.,   0.,   0.,   0.,   0.,   0.,   0.,   0.,   0.,\n",
       "           0.,   0.,   0.,   0.,   0.,   0.,   0.,   0.,   0.,   0.,\n",
       "           0.,   0.,   0.,   0.,   0.,   0.,   0.,   0.,   0.,   0.,\n",
       "           0.,   0.,   0.,   0.,   0.,   0.,   0.,   0.,   0.,   0.,\n",
       "           0.,   0.,   0.,   0.,   0.,   0.,   0.,   0.,   0.,   0.,\n",
       "           0.,   0.,   0.,   0.,   0.,   0.,   0.,   0.,   0.,   0.,\n",
       "           0.,   0.,   0.,   0.,   0.,   0.,   0.,   0.,   0.,   0.,\n",
       "           0.,   0.,   0.,   0.,   0.,   0.,   0.,   0.,   0.,   0.,\n",
       "           0.,   0.,   0.,   0.,   0.,   0.,   0.,   0.,   0.,   0.,\n",
       "           0.,   0.,   0.,   0.,   0.,   0.,   0.,   0.,   0.,   0.,\n",
       "           0.,   0.,   0.,   0.,   0.,   0.,   0.,   0.,   0.,   0.,\n",
       "           0.,   0.,   0.,   0.,   0.,   0.,   0.,   0.,   0.,   0.,\n",
       "           0.,   0.,   0.,   0.,   0.,   0.,   0.,   0.,   0.,   0.,\n",
       "           0.,   0.,   0.,   0.,   0.,   0.,   0.,   0.,   0.,   0.,\n",
       "           0.,   0.,   0.,   0.,   0.,   0.,   0.,   0.,   0.,   0.,\n",
       "           0.,   0.,   0.,   0.,   0.,   0.,   0.,   0.,   0.,   0.,\n",
       "           0.,   0.,   0.,   0.,   0.,   0.,   0.,   0.,   0.,   0.,\n",
       "           0.,   0.,   0.,   0.,   0.,   0.]]])"
      ]
     },
     "execution_count": 221,
     "metadata": {},
     "output_type": "execute_result"
    }
   ],
   "source": [
    "data[\"seuilTempPhaseSuivante\"]"
   ]
  },
  {
   "cell_type": "code",
   "execution_count": 222,
   "metadata": {},
   "outputs": [
    {
     "data": {
      "image/png": "[encoded data removed]",
      "text/plain": [
       "<Figure size 432x288 with 1 Axes>"
      ]
     },
     "metadata": {
      "needs_background": "light"
     },
     "output_type": "display_data"
    }
   ],
   "source": [
    "# plt.plot(data[\"eauDispo\"][0,0,:], label=\"eau disponible\")\n",
    "plt.plot(data[\"ddj\"][0,0,:], label=\"ddj\")\n",
    "plt.plot(data[\"sdj\"][0,0,:], label=\"sdj\")\n",
    "plt.legend()\n",
    "plt.show()"
   ]
  },
  {
   "cell_type": "code",
   "execution_count": null,
   "metadata": {},
   "outputs": [],
   "source": []
  },
  {
   "cell_type": "markdown",
   "metadata": {},
   "source": [
    "# Bilan hydro"
   ]
  },
  {
   "cell_type": "code",
   "execution_count": 7,
   "metadata": {},
   "outputs": [],
   "source": [
    "    def EvalIrrigPhase(data, paramITK):\n",
    "        # eauDispo : Quantité journalière d'eau infiltrée dans le sol (moins le ruissellement). Unités : mm \n",
    "        \n",
    "        if paramITK[\"irrigAuto\"]==True : # && (numphase > 0) && (numphase < 6) )\n",
    "            data[\"stockIrr\"][:,:,j] = np.where((data[\"ruRac\"][:,:,j] < data[\"ruSurf\"][:,:,j]),\n",
    "                                        data[\"stockSurface\"][:,:,j],\n",
    "                                        data[\"stockRac\"][:,:,j],\n",
    "                                        )\n",
    "\n",
    "            data[\"ruIrr\"][:,:,j] = np.where((data[\"ruRac\"][:,:,j] < data[\"ruSurf\"][:,:,j]),\n",
    "                                        data[\"ruSurf\"][:,:,j],\n",
    "                                        data[\"ruRac\"][:,:,j],\n",
    "                                        )\n",
    "            \n",
    "            data[\"irrigTotDay\"][:,:,j] = np.where((data[\"stockIrr\"][:,:,j]/data[\"ruIrr\"][:,:,j] < paramITK[\"irrigAutoTarget\"]),\n",
    "                                            np.minimum(np.maximum(0, (data[\"ruIrr\"][:,:,j] - data[\"stockIrr\"][:,:,j]) * 0.9 - data[\"correctedIrrigation\"][:,:,j]), paramITK[\"maxIrrig\"]),\n",
    "                                            data[\"irrigTotDay\"][:,:,j],\n",
    "                                            )\n",
    "            # irrigTotDay = round(irrigTotDay /  paramITK.precision) *  paramITK.precision\n",
    "\n",
    "        data[\"irrigTotDay\"][:,:,j] = data[\"correctedIrrigation\"][:,:,j] + data[\"irrigTotDay\"][:,:,j]\t\t\n",
    "        \n",
    "        data[\"eauDispo\"][:,:,j] = data[\"rain\"][:,:,j] + data[\"irrigTotDay\"][:,:,j]\n",
    "\n",
    "        return data"
   ]
  },
  {
   "cell_type": "code",
   "execution_count": 8,
   "metadata": {},
   "outputs": [],
   "source": [
    "\n",
    "def rempliMc_evalRunOff(data, paramITK, paramTypeSol):\n",
    "\n",
    "    # rempliMc\n",
    "    # humSatMc ???\n",
    "    # biomMc : biomasse mulch, kg/ha\n",
    "    # stockMc : Stock d'eau dans les résidus (mulch). Unités : mm\n",
    "    # eauDispo : Quantité journalière d'eau infiltrée dans le sol (moins le ruissellement). Unités : mm \n",
    "    # surfMc : ???\n",
    "    \n",
    "    # on calcule la quantité maximale d'eau stockable par le mulch en prenant le minimum entre :\n",
    "    # - l'utilisation d'une fonction de la quantité d'eau disponible qui tend vers eauDispo quand surfMc ou biomMc augmentent\n",
    "    # - la différence entre la quantité d'eau au point de saturation et le stock d'eau connu du mulch\n",
    "    # on calcule ensuite l'eau disponible en retranchant l'eau captée si sa valeur est supérieure à 0\n",
    "    # on incrémente ensuite la quantité d'eau dans le mulch par la quantité d'eau captée\n",
    "    data[\"eauCaptee\"][:,:,j] = np.minimum(\n",
    "                                    data[\"eauDispo\"][:,:,j] * (1-np.exp(-paramITK[\"surfMc\"] * data[\"biomMc\"][:,:,j]/1000)),\n",
    "                                    (paramITK[\"humSatMc\"] * data[\"biomMc\"][:,:,j]/ 10000) - data[\"stockMc\"][:,:,j],\n",
    "                                    )\n",
    "    data[\"eauDispo\"][:,:,j] =  np.maximum(data[\"eauDispo\"][:,:,j] - data[\"eauCaptee\"][:,:,j], 0)\n",
    "    data[\"stockMc\"][:,:,j] = data[\"stockMc\"][:,:,j] + data[\"eauCaptee\"][:,:,j]\n",
    "    \n",
    "    # EvalRunOff\n",
    "    # rain : pluviométrie (mm)\n",
    "    # seuilRuiss : Seuil pluie, calcul du ruissellement (cf PourcRuiss) (mm)\n",
    "    # pourcRuiss : (pct décimal)\n",
    "    data[\"lr\"][:,:,j] = np.where(data[\"rain\"][:,:,j] > paramTypeSol[\"seuilRuiss\"],\n",
    "                            (data[\"eauDispo\"][:,:,j]  - paramTypeSol[\"seuilRuiss\"]) *  paramTypeSol[\"pourcRuiss\"],\n",
    "                            data[\"lr\"][:,:,j],\n",
    "                            )\n",
    "    data[\"eauDispo\"][:,:,j] = data[\"eauDispo\"][:,:,j] - data[\"lr\"][:,:,j]\n",
    "    return data"
   ]
  },
  {
   "cell_type": "code",
   "execution_count": null,
   "metadata": {},
   "outputs": [],
   "source": []
  },
  {
   "cell_type": "code",
   "execution_count": null,
   "metadata": {},
   "outputs": [],
   "source": []
  },
  {
   "cell_type": "code",
   "execution_count": 9,
   "metadata": {},
   "outputs": [],
   "source": [
    "\n",
    "def EvolRurCstr(data, paramITK):\n",
    "    data[\"dayVrac\"][:,:,j] = np.where((data[\"numPhase\"][:,:,j]>0) & np.invert((data[\"changePhase\"][:,:,j]==True) & (data[\"numPhase\"][:,:,j]==1)) & (data[\"ruRac\"][:,:,j]>data[\"ruSurf\"][:,:,j]),\n",
    "                                        (data[\"vRac\"][:,:,j] * np.minimum(data[\"cstr\"][:,:,j] + 0.3, 1.0)) / 1000 * data[\"ru\"][:,:,j],\n",
    "                                        data[\"dayVrac\"][:,:,j],\n",
    "                                        )\n",
    "    \n",
    "    data[\"deltaRur\"][:,:,j] = np.where((data[\"numPhase\"][:,:,j]>0) & np.invert((data[\"changePhase\"][:,:,j]==True) & (data[\"numPhase\"][:,:,j]==1)) & (data[\"ruRac\"][:,:,j]>data[\"ruSurf\"][:,:,j]),\n",
    "                                np.where((data[\"hum\"][:,:,j]-data[\"ruRac\"][:,:,j])<data[\"dayVrac\"][:,:,j],\n",
    "                                    data[\"hum\"][:,:,j] - data[\"ruRac\"][:,:,j],\n",
    "                                    data[\"dayVrac\"][:,:,j],\n",
    "                                ),\n",
    "                                data[\"vRac\"][:,:,j]/1000*data[\"ru\"][:,:,j],\n",
    "                                )\n",
    "    \n",
    "    data[\"ruRac\"][:,:,j] = np.where((data[\"numPhase\"][:,:,j]>0) & (data[\"changePhase\"][:,:,j]==True) & (data[\"numPhase\"][:,:,j]==1),\n",
    "                                paramITK[\"profRacIni\"]/1000*data[\"ru\"][:,:,j],\n",
    "                                data[\"ruRac\"][:,:,j] + data[\"deltaRur\"][:,:,j],\n",
    "                                )\n",
    "    return data"
   ]
  },
  {
   "cell_type": "code",
   "execution_count": 10,
   "metadata": {},
   "outputs": [],
   "source": [
    "def rempliRes(data):\n",
    "    data[\"stRuMax\"][:,:,j] = data[\"ru\"][:,:,j] * data[\"profRu\"][:,:,j] / 1000\n",
    "    data[\"stockSurface\"][:,:,j] = np.minimum(data[\"stockSurface\"][:,:,j] + data[\"eauDispo\"][:,:,j], data[\"ruSurf\"][:,:,j] * 1.1)\n",
    "\n",
    "    data[\"eauTranspi\"][:,:,j] = np.where(data[\"stRuSurfPrec\"][:,:,j] < data[\"ruSurf\"][:,:,j]/10,\n",
    "                                            np.maximum(0, data[\"eauDispo\"][:,:,j] - (data[\"ruSurf\"][:,:,j]/10 - data[\"stRuSurfPrec\"][:,:,j])),\n",
    "                                            data[\"eauDispo\"][:,:,j],\n",
    "                                            )\n",
    "\n",
    "    data[\"stockTotal\"][:,:,j] = data[\"stockTotal\"][:,:,j] + data[\"eauTranspi\"][:,:,j]\n",
    "\n",
    "    data[\"dr\"][:,:,j] = np.where(data[\"stockTotal\"][:,:,j] > data[\"stRuMax\"][:,:,j],\n",
    "                                    data[\"stockTotal\"][:,:,j] - data[\"stRuMax\"][:,:,j],\n",
    "                                    data[\"dr\"][:,:,j] * 0,\n",
    "                                    )\n",
    "\n",
    "    data[\"stockTotal\"][:,:,j] = np.where(data[\"stockTotal\"][:,:,j] > data[\"stRuMax\"][:,:,j],\n",
    "                                        data[\"stRuMax\"][:,:,j],\n",
    "                                        data[\"stockTotal\"][:,:,j],\n",
    "                                        )\n",
    "\n",
    "    data[\"hum\"][:,:,j] = np.maximum(data[\"hum\"][:,:,j], data[\"stockTotal\"][:,:,j])\n",
    "\n",
    "    data[\"stockRac\"][:,:,j] = np.minimum(np.minimum(data[\"stockTotal\"][:,:,j] + data[\"eauTranspi\"][:,:,j], data[\"ruRac\"][:,:,j]), data[\"stockTotal\"][:,:,j])\n",
    "    return data"
   ]
  },
  {
   "cell_type": "code",
   "execution_count": 11,
   "metadata": {},
   "outputs": [],
   "source": [
    "def Evaporation(data, paramITK):\n",
    "    # evalFESW\n",
    "    data[\"feswTemp\"][:,:,j] = data[\"stockSurfaceTemp\"][:,:,j] / (data[\"ruSurf\"][:,:,j] * 1.1)\n",
    "\n",
    "    # evalKceMc\n",
    "    data[\"kceTemp\"][:,:,j] = paramITK[\"mulch\"] / 100 * data[\"ltrTemp\"][:,:,j] * np.exp(-paramITK[\"coefMc\"] * paramITK[\"surfMc\"] * data[\"bioMc\"][:,:,j]/1000)\n",
    "\n",
    "    # demandeSol\n",
    "    data[\"evalPotTemp\"][:,:,j] = data[\"etp\"][:,:,j] * data[\"kceTemp\"][:,:,j]\n",
    "\n",
    "    # evapMc\n",
    "    data[\"FEMcW\"][:,:,j] = (paramITK[\"humSatMc\"] * data[\"bioMc\"][:,:,j] * 0.001) / data[\"stockMcTemp\"][:,:,j]\n",
    "    data[\"stockMcTemp\"][:,:,j] = np.where(data[\"stockMcTemp\"][:,:,j] > 0,\n",
    "                                            np.maximum(0, data[\"stockMcTemp\"][:,:,j] - data[\"ltrTemp\"][:,:,j] * data[\"etp\"][:,:,j] * data[\"FEMcW\"][:,:,j]**2),\n",
    "                                            data[\"stockMcTemp\"][:,:,j],\n",
    "                                            )\n",
    "\n",
    "    # evapRuSurf\n",
    "    data[\"evapTemp\"][:,:,j] = np.minimum(data[\"evalPotTemp\"][:,:,j] * data[\"feswTemp\"][:,:,j]**2, data[\"stockSurfaceTemp\"][:,:,j])\n",
    "\n",
    "    return data"
   ]
  },
  {
   "cell_type": "code",
   "execution_count": 12,
   "metadata": {},
   "outputs": [],
   "source": [
    "def Transpiration(data, paramVariete):\n",
    "\n",
    "    #transpiration\n",
    "    # EvalFTSW\n",
    "    data[\"ftsw\"][:,:,j] = np.where(data[\"ruRac\"][:,:,j] > 0,\n",
    "                                    data[\"stockRac\"][:,:,j] / data[\"ruRac\"][:,:,j],\n",
    "                                    data[\"ftsw\"][:,:,j]*0,\n",
    "                                    )\n",
    "\n",
    "    # EvolKcpKcIni\n",
    "    data[\"kcp\"][:,:,j] = np.maximum(0.3, paramVariete[\"kcMax\"] * (1 - data[\"ltr\"][:,:,j]))\n",
    "\n",
    "    #demandePlante\n",
    "    data[\"trPot\"][:,:,j] = data[\"kcp\"][:,:,j] * data[\"etp\"][:,:,j]\n",
    "\n",
    "    data[\"pFact\"][:,:,j] = paramVariete[\"PFactor\"] + 0.04 * (5 - np.maximum(data[\"kcp\"][:,:,j], 1) * data[\"etp\"][:,:,j])\n",
    "    data[\"pFact\"][:,:,j] = np.minimum(np.maximum(0.1, data[\"pFact\"][:,:,j]), 0.8)\n",
    "\n",
    "    data[\"cstr\"][:,:,j] = np.minimum((data[\"ftsw\"][:,:,j] / (1 - data[\"pFact\"][:,:,j])), 1)\n",
    "    data[\"cstr\"][:,:,j] = np.maximum(0, data[\"cstr\"][:,:,j])\n",
    "\n",
    "    # evalTranspi\n",
    "    data[\"tr\"][:,:,j] = data[\"trPot\"][:,:,j] * data[\"cstr\"][:,:,j]\n",
    "\n",
    "    return data\n"
   ]
  },
  {
   "cell_type": "code",
   "execution_count": 13,
   "metadata": {},
   "outputs": [],
   "source": [
    "def ConsoResSep(data):\n",
    "\n",
    "    # consoResSep\n",
    "    data[\"stockSurface\"][:,:,j] = np.maximum(data[\"stockSurface\"][:,:,j] - data[\"evap\"][:,:,j], 10)\n",
    "\n",
    "    data[\"consoRur\"][:,:,j] = np.where(data[\"evap\"][:,:,j] > data[\"trSurf\"][:,:,j],\n",
    "                                        data[\"trSurf\"][:,:,j],\n",
    "                                        data[\"evap\"][:,:,j],\n",
    "                                        )\n",
    "\n",
    "    data[\"stockTotal\"][:,:,j] = np.maximum(0, data[\"stockTotal\"][:,:,j] - data[\"consoRur\"][:,:,j])\n",
    "\n",
    "    data[\"consoRur\"][:,:,j] = np.where(data[\"ruRac\"][:,:,j] < data[\"ruSurf\"][:,:,j],\n",
    "                                        data[\"evap\"][:,:,j] * data[\"stockRac\"][:,:,j] / data[\"ruSurf\"][:,:,j],\n",
    "                                        data[\"consoRur\"][:,:,j],\n",
    "                                        )\n",
    "\n",
    "    data[\"stockRac\"][:,:,j] = np.maximum(0, data[\"stockRac\"][:,:,j] - data[\"consoRur\"][:,:,j])\n",
    "\n",
    "    data[\"tr\"][:,:,j] = np.where(data[\"tr\"][:,:,j] > data[\"stockRac\"][:,:,j],\n",
    "                                    np.maximum(data[\"stockRac\"][:,:,j] - data[\"tr\"][:,:,j], 0),\n",
    "                                    data[\"tr\"][:,:,j],\n",
    "                                    )\n",
    "\n",
    "    data[\"stockSurface\"][:,:,j] = np.where(data[\"stockRac\"][:,:,j]>0,\n",
    "                                            np.maximum(data[\"stockSurface\"][:,:,j] - (data[\"tr\"][:,:,j] * np.minimum(data[\"trSurf\"][:,:,j]/data[\"stockRac\"][:,:,j], 1)), 0),\n",
    "                                            data[\"stockSurface\"][:,:,j],\n",
    "                                            )\n",
    "    \n",
    "    data[\"stockRac\"][:,:,j] = np.maximum(0, data[\"stockRac\"][:,:,j] - data[\"tr\"][:,:,j])\n",
    "    data[\"stockTotal\"][:,:,j] = np.maximum(0, data[\"stockTotal\"][:,:,j] - data[\"tr\"][:,:,j])\n",
    "\n",
    "    return data"
   ]
  },
  {
   "cell_type": "code",
   "execution_count": 32,
   "metadata": {},
   "outputs": [],
   "source": []
  },
  {
   "cell_type": "code",
   "execution_count": 15,
   "metadata": {},
   "outputs": [],
   "source": []
  },
  {
   "cell_type": "code",
   "execution_count": 16,
   "metadata": {},
   "outputs": [],
   "source": []
  },
  {
   "cell_type": "code",
   "execution_count": 17,
   "metadata": {},
   "outputs": [],
   "source": []
  },
  {
   "cell_type": "markdown",
   "metadata": {},
   "source": [
    "# bilan carbo"
   ]
  },
  {
   "cell_type": "code",
   "execution_count": 18,
   "metadata": {},
   "outputs": [],
   "source": [
    "def EvalVitesseRacSarraV3(data, paramVariete):\n",
    "    # EvalVitesseRacSarraV3\n",
    "    data[\"vRac\"][:,:,j] = np.where(\n",
    "                                data[\"numPhase\"][:,:,j] == 1,\n",
    "                                paramVariete['VRacLevee'],\n",
    "                                np.where(\n",
    "                                    data[\"numPhase\"][:,:,j] == 2,\n",
    "                                    paramVariete['VRacBVP'],\n",
    "                                    np.where(\n",
    "                                        data[\"numPhase\"][:,:,j] == 3,\n",
    "                                        paramVariete['VRacPSP'],\n",
    "                                        np.where(\n",
    "                                            data[\"numPhase\"][:,:,j] == 4,\n",
    "                                            paramVariete['VRacRPR'],\n",
    "                                            np.where(\n",
    "                                                data[\"numPhase\"][:,:,j] == 5,\n",
    "                                                paramVariete['VRacMatu1'],\n",
    "                                                np.where(\n",
    "                                                    data[\"numPhase\"][:,:,j] == 6,\n",
    "                                                    paramVariete['VRacMatu2'],\n",
    "                                                    0,\n",
    "                                                    )\n",
    "                                                )\n",
    "                                            )\n",
    "                                        )\n",
    "                                    )\n",
    "                                )\n",
    "\n",
    "    return data"
   ]
  },
  {
   "cell_type": "code",
   "execution_count": 19,
   "metadata": {},
   "outputs": [],
   "source": [
    "def EvalConversion(data, paramVariete):\n",
    "    # EvalConversion\n",
    "    data[\"KAssim\"][:,:,j] = np.where(\n",
    "                                data[\"numPhase\"][:,:,j] == 2,\n",
    "                                1,\n",
    "                                np.where(\n",
    "                                    data[\"numPhase\"][:,:,j] == 3,\n",
    "                                    paramVariete['txAssimBVP'],\n",
    "                                    np.where(\n",
    "                                        data[\"numPhase\"][:,:,j] == 4,\n",
    "                                        paramVariete['txAssimBVP'],\n",
    "                                        np.where(\n",
    "                                            data[\"numPhase\"][:,:,j] == 5,\n",
    "                                            paramVariete[\"txAssimBVP\"] + (data['sdj'][:,:,j] - data['sommeDegresJourPhasePrec'][:,:,j]) * (paramVariete['txAssimMatu1'] -  paramVariete['txAssimBVP']) / (data['seuilTempPhaseSuivante'][:,:,j] - data['sommeDegresJourPhasePrec'][:,:,j]),\n",
    "                                            np.where(\n",
    "                                                data[\"numPhase\"][:,:,j] == 6,\n",
    "                                                paramVariete[\"txAssimMatu1\"] + (data[\"sdj\"][:,:,j] - data[\"sommeDegresJourPhasePrec\"][:,:,j]) * ( paramVariete[\"txAssimMatu2\"] - paramVariete[\"txAssimMatu1\"]) / (data[\"seuilTempPhaseSuivante\"][:,:,j] - data[\"sommeDegresJourPhasePrec\"][:,:,j],\n",
    "                                                0,\n",
    "                                                    )\n",
    "                                                )\n",
    "                                            )\n",
    "                                        )\n",
    "                                    )\n",
    "                                )\n",
    "\n",
    "    return data"
   ]
  },
  {
   "cell_type": "code",
   "execution_count": null,
   "metadata": {},
   "outputs": [],
   "source": []
  },
  {
   "cell_type": "markdown",
   "metadata": {},
   "source": [
    "# bilans"
   ]
  },
  {
   "cell_type": "code",
   "execution_count": 20,
   "metadata": {},
   "outputs": [],
   "source": [
    "def bilanHydro(data, paramITK, paramTypeSol, paramVariete):\n",
    "    data = EvalIrrigPhase(data, paramITK)\n",
    "    data = rempliMc_evalRunOff(data, paramITK, paramTypeSol)\n",
    "    data = EvolRurCstr(data, paramITK)\n",
    "    data = rempliRes(data)\n",
    "    data = Evaporation(data, paramITK)\n",
    "    data = Transpiration(data, paramVariete)\n",
    "    data = ConsoResSep(data)\n",
    "    return data"
   ]
  },
  {
   "cell_type": "code",
   "execution_count": 21,
   "metadata": {},
   "outputs": [],
   "source": []
  },
  {
   "cell_type": "code",
   "execution_count": 22,
   "metadata": {},
   "outputs": [],
   "source": [
    "def bilanCarbo(data, paramITK, paramTypeSol, paramVariete):\n",
    "    data = EvalVitesseRacSarraV3(data, paramVariete)\n",
    "    data = EvalConversion(data, paramVariete)"
   ]
  },
  {
   "cell_type": "markdown",
   "metadata": {},
   "source": [
    "# run"
   ]
  },
  {
   "cell_type": "code",
   "execution_count": 33,
   "metadata": {},
   "outputs": [
    {
     "name": "stderr",
     "output_type": "stream",
     "text": [
      "100%|██████████| 366/366 [00:00<00:00, 1198.86it/s]\n"
     ]
    }
   ],
   "source": [
    "for j in tqdm(range(len(df))):\n",
    "    # print(\"jour\",j)\n",
    "\n",
    "    bilanPheno(data, paramITK, paramTypeSol, paramVariete)\n",
    "    #bilanCarbo(data, paramITK, paramTypeSol, paramVariete)\n",
    "    #bilanHydro(data, paramITK, paramTypeSol, paramVariete)"
   ]
  },
  {
   "cell_type": "code",
   "execution_count": null,
   "metadata": {},
   "outputs": [
    {
     "data": {
      "image/png": "[encoded data removed]",
      "text/plain": [
       "<Figure size 432x288 with 1 Axes>"
      ]
     },
     "metadata": {},
     "output_type": "display_data"
    }
   ],
   "source": [
    "# plt.plot(data[\"eauDispo\"][0,0,:], label=\"eau disponible\")\n",
    "plt.plot(data[\"nbjStress\"][0,0,:], label=\"dateRecole\")\n",
    "\n",
    "plt.legend()\n",
    "plt.show()"
   ]
  },
  {
   "cell_type": "code",
   "execution_count": null,
   "metadata": {},
   "outputs": [
    {
     "data": {
      "image/png": "[encoded data removed]",
      "text/plain": [
       "<Figure size 432x288 with 1 Axes>"
      ]
     },
     "metadata": {},
     "output_type": "display_data"
    }
   ],
   "source": [
    "# plt.plot(data[\"eauDispo\"][0,0,:], label=\"eau disponible\")\n",
    "plt.plot(data[\"dateRecolte\"][0,0,:], label=\"dateRecole\")\n",
    "\n",
    "plt.legend()\n",
    "plt.show()"
   ]
  },
  {
   "cell_type": "code",
   "execution_count": null,
   "metadata": {},
   "outputs": [
    {
     "data": {
      "image/png": "[encoded data removed]",
      "text/plain": [
       "<Figure size 432x288 with 1 Axes>"
      ]
     },
     "metadata": {},
     "output_type": "display_data"
    }
   ],
   "source": [
    "# plt.plot(data[\"eauDispo\"][0,0,:], label=\"eau disponible\")\n",
    "plt.plot(data[\"ddj\"][0,0,:], label=\"ddj\")\n",
    "plt.plot(data[\"sdj\"][0,0,:], label=\"sdj\")\n",
    "plt.legend()\n",
    "plt.show()"
   ]
  },
  {
   "cell_type": "code",
   "execution_count": null,
   "metadata": {},
   "outputs": [
    {
     "data": {
      "image/png": "[encoded data removed]",
      "text/plain": [
       "<Figure size 432x288 with 1 Axes>"
      ]
     },
     "metadata": {},
     "output_type": "display_data"
    }
   ],
   "source": [
    "# plt.plot(data[\"eauDispo\"][0,0,:], label=\"eau disponible\")\n",
    "plt.plot(data[\"irrigTotDay\"][0,0,:], label=\"irrigtotday\")\n",
    "plt.plot(data[\"stockIrr\"][0,0,:], label=\"stockirr\")\n",
    "plt.plot(data[\"ruIrr\"][0,0,:], label=\"ruirr\")\n",
    "plt.legend()\n",
    "plt.show()"
   ]
  },
  {
   "cell_type": "code",
   "execution_count": null,
   "metadata": {},
   "outputs": [
    {
     "data": {
      "image/png": "[encoded data removed]",
      "text/plain": [
       "<Figure size 432x288 with 1 Axes>"
      ]
     },
     "metadata": {},
     "output_type": "display_data"
    }
   ],
   "source": [
    "plt.plot(data[\"rain\"][0,0,:], label=\"eau pluie\")\n",
    "plt.plot(data[\"eauDispo\"][0,0,:], label=\"eau disponible\")\n",
    "plt.plot(data[\"lr\"][0,0,:], label=\"lame ruisselée\")\n",
    "plt.legend()\n",
    "plt.show()"
   ]
  },
  {
   "cell_type": "code",
   "execution_count": null,
   "metadata": {},
   "outputs": [
    {
     "data": {
      "image/png": "[encoded data removed]",
      "text/plain": [
       "<Figure size 432x288 with 1 Axes>"
      ]
     },
     "metadata": {},
     "output_type": "display_data"
    }
   ],
   "source": [
    "plt.plot(data[\"vRac\"][0,0,:], label=\"vRac\")\n",
    "plt.plot(data[\"deltaRur\"][0,0,:], label=\"deltaRur\")\n",
    "plt.plot(data[\"ruRac\"][0,0,:], label=\"ruRac\")\n",
    "plt.legend()\n",
    "plt.show()"
   ]
  },
  {
   "cell_type": "code",
   "execution_count": null,
   "metadata": {},
   "outputs": [
    {
     "data": {
      "image/png": "[encoded data removed]",
      "text/plain": [
       "<Figure size 432x288 with 1 Axes>"
      ]
     },
     "metadata": {},
     "output_type": "display_data"
    }
   ],
   "source": [
    "plt.plot(data[\"stockRac\"][0,0,:], label=\"vRac\")\n",
    "plt.legend()\n",
    "plt.show()"
   ]
  },
  {
   "cell_type": "code",
   "execution_count": null,
   "metadata": {},
   "outputs": [
    {
     "data": {
      "image/png": "[encoded data removed]",
      "text/plain": [
       "<Figure size 432x288 with 1 Axes>"
      ]
     },
     "metadata": {},
     "output_type": "display_data"
    }
   ],
   "source": [
    "plt.plot(data[\"evapTemp\"][0,0,:], label=\"evapTemp\")\n",
    "plt.legend()\n",
    "plt.show()"
   ]
  },
  {
   "cell_type": "code",
   "execution_count": null,
   "metadata": {},
   "outputs": [
    {
     "data": {
      "image/png": "[encoded data removed]",
      "text/plain": [
       "<Figure size 432x288 with 1 Axes>"
      ]
     },
     "metadata": {},
     "output_type": "display_data"
    }
   ],
   "source": [
    "plt.plot(data[\"tr\"][0,0,:], label=\"tr\")\n",
    "plt.legend()\n",
    "plt.show()"
   ]
  },
  {
   "cell_type": "code",
   "execution_count": null,
   "metadata": {},
   "outputs": [
    {
     "data": {
      "image/png": "[encoded data removed]",
      "text/plain": [
       "<Figure size 432x288 with 1 Axes>"
      ]
     },
     "metadata": {},
     "output_type": "display_data"
    }
   ],
   "source": [
    "plt.plot(data[\"stockTotal\"][0,0,:], label=\"stockTotal\")\n",
    "plt.legend()\n",
    "plt.show()"
   ]
  },
  {
   "cell_type": "code",
   "execution_count": 225,
   "metadata": {},
   "outputs": [],
   "source": [
    "def EvalVitesseRacSarraV3(data, paramVariete):\n",
    "\n",
    "\tdata[\"vRac\"][data[\"numPhase\"] == 1] = paramVariete[\"VRacLevee\"]\n",
    "\tdata[\"vRac\"][data[\"numPhase\"] == 2] = paramVariete[\"VRacBVP\"] \n",
    "\tdata[\"vRac\"][data[\"numPhase\"] == 3] = paramVariete[\"VRacPSP\"] \n",
    "\tdata[\"vRac\"][data[\"numPhase\"] == 4] = paramVariete[\"VRacRPR\"] \n",
    "\tdata[\"vRac\"][data[\"numPhase\"] == 5] = paramVariete[\"VRacMatu1\"] \n",
    "\tdata[\"vRac\"][data[\"numPhase\"] == 6] = paramVariete[\"VRacMatu2\"] \n",
    "\n",
    "\treturn data"
   ]
  }
 ],
 "metadata": {
  "kernelspec": {
   "display_name": "Python 3.9.6 64-bit ('venv_SARRA_Py')",
   "language": "python",
   "name": "python3"
  },
  "language_info": {
   "codemirror_mode": {
    "name": "ipython",
    "version": 3
   },
   "file_extension": ".py",
   "mimetype": "text/x-python",
   "name": "python",
   "nbconvert_exporter": "python",
   "pygments_lexer": "ipython3",
   "version": "3.9.6"
  },
  "orig_nbformat": 4,
  "vscode": {
   "interpreter": {
    "hash": "59596bfa884b38bda8229050bd743febcad69ace13cb01a56f57ffd48d5b3a13"
   }
  }
 },
 "nbformat": 4,
 "nbformat_minor": 2
}
