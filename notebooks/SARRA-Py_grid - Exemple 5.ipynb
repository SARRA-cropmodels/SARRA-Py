{
 "cells": [
  {
   "cell_type": "markdown",
   "metadata": {},
   "source": [
    "# Example 5\n",
    "\n",
    "The aim of this notebook is to go forward in the analysis performed by Audrey BROUILLET (IRD) : we perform simulations for millet in Niger from years 1981-2021 and compute different indices, such as beginning of season, end of season, season length, water-stress related indices, and atteinable yield."
   ]
  },
  {
   "attachments": {},
   "cell_type": "markdown",
   "metadata": {},
   "source": [
    "## Imports"
   ]
  },
  {
   "cell_type": "code",
   "execution_count": 1,
   "metadata": {
    "tags": []
   },
   "outputs": [],
   "source": [
    "import numpy as np\n",
    "import pandas as pd\n",
    "from pcse.db import NASAPowerWeatherDataProvider\n",
    "from pcse.util import reference_ET\n",
    "import datetime\n",
    "from matplotlib import pyplot as plt\n",
    "from tqdm import tqdm as tqdm\n",
    "import io\n",
    "import xarray as xr\n",
    "from sarra_py import *\n",
    "import time\n",
    "import geopandas as gpd"
   ]
  },
  {
   "cell_type": "markdown",
   "metadata": {},
   "source": [
    " ## Analysis parameters"
   ]
  },
  {
   "cell_type": "code",
   "execution_count": 2,
   "metadata": {},
   "outputs": [],
   "source": [
    "# weather and rainfall data path\n",
    "rainfall_data_paths = {\n",
    "                        \"CHIRPS\" : \"/mnt/d/climate_database/CHIRPS_v2.0_Africa_niger/\", # 1981-2022\n",
    "                        \"TAMSAT\" : \"/mnt/d/climate_database/TAMSAT_v3.1_niger_rfe_filled_1983_2021_DL20230614/\" # 1983-2021\n",
    "                      }\n",
    "climate_data_path = \"/mnt/d/climate_database/AgERA5_niger_1981_2021_DL20230615/\" # 1981-2021\n",
    "\n",
    "# parameter files\n",
    "file_paramVariete = \"millet_variety_exemple5.yaml\"\n",
    "file_paramITK = \"millet_exemple5.yaml\"\n",
    "file_paramTypeSol = \"exemple5.yaml\"\n",
    "\n",
    "# parameters for time series analysis\n",
    "year_start = 1981\n",
    "year_end = 2021\n",
    "duration = 365 # we load all days of the year for this analysis\n",
    "dataset = \"CHIRPS\""
   ]
  },
  {
   "cell_type": "code",
   "execution_count": 4,
   "metadata": {},
   "outputs": [],
   "source": [
    "# we start by loading the estimated sowing dates, previously produced for CHIRPS and TAMSAT\n",
    "\n",
    "# listing the result files\n",
    "path = \"./exemple_3_sowing_date_timeseries/\"+dataset+\"/\"\n",
    "files = os.listdir(path)\n",
    "files.sort()\n",
    "\n",
    "years = [int(file.split(\".\")[0]) for file in files]"
   ]
  },
  {
   "cell_type": "markdown",
   "metadata": {},
   "source": [
    "# Defining functions"
   ]
  },
  {
   "cell_type": "code",
   "execution_count": 5,
   "metadata": {},
   "outputs": [],
   "source": [
    "def save_figure(variable, dataset, year):\n",
    "        if not os.path.exists(\"./exemple_5/{}/\".format(variable)):\n",
    "                os.makedirs(\"./exemple_5/{}/\".format(variable), exist_ok=True)\n",
    "\n",
    "        data[variable].astype('float32').rio.to_raster(\"./exemple_5/{}/{}_{}_{}.tif\".format(variable, variable, dataset, year))\n",
    "\n",
    "def calc_anomalies(variable, data, zscore_thresh):\n",
    "        data[variable+\"_in_season\"] = xr.where(data[\"time\"] >= data[\"date_begin_season\"],\n",
    "                xr.where(data[\"time\"] <= data[\"date_end_season\"],\n",
    "                        data[variable],\n",
    "                        np.nan),\n",
    "                np.nan)\n",
    "\n",
    "        data[variable+\"_in_season_mean\"] = data[variable+\"_in_season\"].mean(dim=\"time\")\n",
    "        data[variable+\"_in_season_std\"] = data[variable+\"_in_season\"].std(dim=\"time\")\n",
    "        data[variable+\"_in_season_zscore\"] = (data[variable+\"_in_season\"] - data[variable+\"_in_season_mean\"]) / data[variable+\"_in_season_std\"]\n",
    "        #data[variable+\"_in_season_zscore\"].plot()\n",
    "        data[variable+\"_in_season_anomaly_pos\"] = xr.where(data[variable+\"_in_season_zscore\"] > zscore_thresh, 1, 0)\n",
    "        #data[variable+\"_in_season_anomaly_pos\"].sum(dim=\"time\").plot()\n",
    "        #plt.show()\n",
    "        data[variable+\"_in_season_anomaly_neg\"] = xr.where(data[variable+\"_in_season_zscore\"] < -zscore_thresh, 1, 0)\n",
    "        #data[variable+\"_in_season_anomaly_neg\"].sum(dim=\"time\").plot()\n",
    "        #plt.show()\n",
    "\n",
    "        return data\n"
   ]
  },
  {
   "cell_type": "markdown",
   "metadata": {},
   "source": [
    "# performing the analysis by running the model"
   ]
  },
  {
   "cell_type": "code",
   "execution_count": 6,
   "metadata": {},
   "outputs": [
    {
     "name": "stderr",
     "output_type": "stream",
     "text": [
      "  0%|          | 0/1 [00:00<?, ?it/s]"
     ]
    },
    {
     "name": "stdout",
     "output_type": "stream",
     "text": [
      "year 2021\n"
     ]
    },
    {
     "name": "stderr",
     "output_type": "stream",
     "text": [
      "100%|██████████| 5/5 [01:20<00:00, 16.18s/it]\n",
      "100%|██████████| 365/365 [08:05<00:00,  1.33s/it]\n",
      "/home/jeremy/.pyenv/versions/3.9.6/envs/venv_SARRA_Py/lib/python3.9/site-packages/numpy/lib/nanfunctions.py:1878: RuntimeWarning: Degrees of freedom <= 0 for slice.\n",
      "  var = nanvar(a, axis=axis, dtype=dtype, out=out, ddof=ddof,\n",
      "100%|██████████| 1/1 [10:46<00:00, 646.92s/it]\n"
     ]
    }
   ],
   "source": [
    "year_start = 2021\n",
    "year_end = 2022\n",
    "\n",
    "for year_id in tqdm(range(year_start - 1981,year_end-1981)):\n",
    "# for year_id in tqdm(range(1992)):\n",
    "    #try:\n",
    "        year = years[year_id]\n",
    "\n",
    "        print(\"year\",str(year))\n",
    "        # defining date of simulation start and simulation length in days\n",
    "        date_start = datetime.date(year,1,1)\n",
    "\n",
    "        # retrieving the grid size from the rainfall data (this method will be deprecated in the future)\n",
    "        rainfall_data_path = rainfall_data_paths[dataset]\n",
    "        grid_width, grid_height = get_grid_size(rainfall_data_path, date_start, duration)\n",
    "\n",
    "        ## preparing the base dataset\n",
    "        # initialize empty xarray dataset to load base data\n",
    "        base_data = xr.Dataset()\n",
    "\n",
    "        # load rainfall and weather data\n",
    "        base_data = load_TAMSAT_data(base_data, rainfall_data_path, date_start, duration)\n",
    "        base_data = load_AgERA5_data(base_data, climate_data_path, date_start, duration)\n",
    "\n",
    "        # load soil data using the iSDA method (uses more recent maps)\n",
    "        base_data = load_iSDA_soil_data_alternate(base_data, grid_width, grid_height)\n",
    "\n",
    "        # compute the day lengthµ\n",
    "        base_data = calc_day_length_raster_fast(base_data, date_start, duration)\n",
    "\n",
    "        ## prepating simulation dataset\n",
    "        # load variety, cropping system and soil parameters\n",
    "        paramVariete, paramITK, paramTypeSol = load_YAML_parameters(file_paramVariete, file_paramITK, file_paramTypeSol)\n",
    "        paramITK[\"DateSemis\"] = datetime.date(year,4,1)\n",
    "\n",
    "        # creating simulation xarray dataset by copying the base data\n",
    "        data = base_data.copy()\n",
    "\n",
    "        # initializing all the necessary variables\n",
    "        data = initialize_simulation(data, grid_width, grid_height, duration, paramVariete, paramITK, date_start)\n",
    "        data = initialize_default_irrigation(data)\n",
    "        data = calculate_once_daily_thermal_time(data, paramVariete)\n",
    "\n",
    "        ## running the model\n",
    "        data = run_model(paramVariete, paramITK, paramTypeSol, data, duration)\n",
    "\n",
    "\n",
    "\n",
    "\n",
    "\n",
    "\n",
    "        \n",
    "\n",
    "        verbose=False\n",
    "\n",
    "        # calculating date of end of season\n",
    "        argmax = ((data[\"numPhase\"]==7) & (data[\"changePhase\"]==1)).argmax(axis=0)\n",
    "        data[\"date_end_season\"] = xr.where(argmax==0, np.nan, argmax)\n",
    "        if verbose :\n",
    "                data[\"date_end_season\"].plot()\n",
    "                plt.title(\"date_end_season\")\n",
    "                plt.show()\n",
    "        # plt.hist(data[\"date_end_season\"].values.flatten())\n",
    "        # plt.show()\n",
    "\n",
    "        # saving end of season\n",
    "        variable = \"date_end_season\"\n",
    "        save_figure(variable, dataset, year)\n",
    "\n",
    "\n",
    "        # calculating beginning of season\n",
    "        argmax = ((data[\"numPhase\"]==1) & (data[\"changePhase\"]==1)).argmax(axis=0)\n",
    "        data[\"date_begin_season\"] = xr.where(argmax==0, np.nan, argmax)\n",
    "        if verbose :\n",
    "                data[\"date_begin_season\"].plot()\n",
    "                plt.title(\"date_begin_season\")\n",
    "                plt.show()\n",
    "        # plt.hist(data[\"date_begin_season\"].values.flatten())\n",
    "        # plt.show()\n",
    "\n",
    "        # saving beginning of season\n",
    "        variable = \"date_begin_season\"\n",
    "        save_figure(variable, dataset, year)\n",
    "\n",
    "\n",
    "        # calculating duration of season\n",
    "        data[\"season_length\"] = data[\"date_end_season\"] - data[\"date_begin_season\"]\n",
    "        if verbose :\n",
    "                data[\"season_length\"].plot()\n",
    "                plt.title(\"season_length\")\n",
    "                plt.show()\n",
    "        # plt.hist(data[\"season_length\"].values.flatten())\n",
    "        # plt.show()\n",
    "\n",
    "        # saving duration of season\n",
    "        variable = \"season_length\"\n",
    "        save_figure(variable, dataset, year)\n",
    "\n",
    "\n",
    "\n",
    "\n",
    "\n",
    "        # calculating cstr related variables\n",
    "        variable = \"cstr\"\n",
    "        zscore_thresh = 2.5\n",
    "        data = calc_anomalies(variable, data, zscore_thresh)\n",
    "\n",
    "        # calculating number of days in season under cstr thres\n",
    "        cstr_thres=0.5\n",
    "        data[\"days_under_cstr_thres\"] = xr.where(((data[\"cstr_in_season\"]<cstr_thres).sum(axis=0))==0,np.nan,(data[\"cstr_in_season\"]<cstr_thres).sum(axis=0))\n",
    "        if verbose :\n",
    "                data[\"days_under_cstr_thres\"].plot()\n",
    "                plt.title(\"days_under_cstr_thres\")\n",
    "                plt.show()\n",
    "\n",
    "        # saving number of days in season under cstr thres\n",
    "        variable = \"days_under_cstr_thres\"\n",
    "        save_figure(variable, dataset, year)\n",
    "\n",
    "\n",
    "        # calculating in season mean value for cstr\n",
    "        # (already calculated via calc_anomalies)\n",
    "        if verbose :\n",
    "                data[\"cstr_in_season_mean\"].plot()\n",
    "                plt.title(\"cstr_in_season_mean\")\n",
    "                plt.show()\n",
    "\n",
    "        # saving in season mean value for cstr\n",
    "        variable = \"cstr_in_season_mean\"\n",
    "        save_figure(variable, dataset, year)\n",
    "\n",
    "\n",
    "        # calculating yield\n",
    "        data[\"yield\"] = xr.where(data[\"rdt\"][-1,:,:]==0,np.nan,data[\"rdt\"][-1,:,:])\n",
    "        if verbose :\n",
    "                data[\"yield\"].plot()\n",
    "                plt.title(\"yield\")\n",
    "                plt.show()\n",
    "\n",
    "        # saving yield\n",
    "        variable = \"yield\"\n",
    "        save_figure(variable, dataset, year)\n",
    "\n",
    "\n",
    "\n",
    "\n",
    "\n",
    "\n",
    "        \n",
    "\n",
    "        del data\n",
    "        del base_data\n",
    "    #except:\n",
    "    #    print(\"issue with year\",str(year))\n",
    "    \n"
   ]
  }
 ],
 "metadata": {
  "kernelspec": {
   "display_name": "Python 3 (ipykernel)",
   "language": "python",
   "name": "python3"
  },
  "language_info": {
   "codemirror_mode": {
    "name": "ipython",
    "version": 3
   },
   "file_extension": ".py",
   "mimetype": "text/x-python",
   "name": "python",
   "nbconvert_exporter": "python",
   "pygments_lexer": "ipython3",
   "version": "3.9.6"
  },
  "vscode": {
   "interpreter": {
    "hash": "59596bfa884b38bda8229050bd743febcad69ace13cb01a56f57ffd48d5b3a13"
   }
  }
 },
 "nbformat": 4,
 "nbformat_minor": 4
}
