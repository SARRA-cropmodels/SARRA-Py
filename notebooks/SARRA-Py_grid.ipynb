{
 "cells": [
  {
   "cell_type": "markdown",
   "metadata": {},
   "source": [
    "# Imports"
   ]
  },
  {
   "cell_type": "code",
   "execution_count": null,
   "metadata": {
    "tags": []
   },
   "outputs": [],
   "source": [
    "import numpy as np\n",
    "import pandas as pd\n",
    "from pcse.db import NASAPowerWeatherDataProvider\n",
    "from pcse.util import reference_ET\n",
    "import datetime\n",
    "from matplotlib import pyplot as plt\n",
    "from tqdm import tqdm as tqdm\n",
    "import io\n",
    "import xarray as xr\n",
    "from sarra_py import *\n",
    "import time"
   ]
  },
  {
   "cell_type": "markdown",
   "metadata": {},
   "source": [
    "# Extract exemple data"
   ]
  },
  {
   "cell_type": "code",
   "execution_count": null,
   "metadata": {},
   "outputs": [],
   "source": [
    "import zipfile\n",
    "\n",
    "path_to_zip_file = \"../data/exemple_data/exemple_data.zip\"\n",
    "directory_to_extract_to = \"../data/exemple_data/\"\n",
    "\n",
    "with zipfile.ZipFile(path_to_zip_file, 'r') as zip_ref:\n",
    "    zip_ref.extractall(directory_to_extract_to)\n"
   ]
  },
  {
   "cell_type": "markdown",
   "metadata": {},
   "source": [
    "# Parameters"
   ]
  },
  {
   "cell_type": "code",
   "execution_count": null,
   "metadata": {},
   "outputs": [],
   "source": [
    "# date at which simulation is started, and simulation length (duration)\n",
    "date_start = datetime.date(2021,4,1)\n",
    "duration = 200\n",
    "\n",
    "# path of gridded rainfall datasets\n",
    "TAMSAT_path = \"../data/exemple_data/TAMSAT_v3.1_burkina_rfe_filled/\"\n",
    "# CHIRPS_path = \"/mnt/d/Mes Donnees/SARRA_data-download/data/3_output/CHIRPS_v2.0_Africa_burkina\"\n",
    "\n",
    "# path for gridded weather datasets\n",
    "AgERA5_data_path = \"../data/exemple_data/AgERA5_burkina/\"\n",
    "\n",
    "# parameter file names\n",
    "file_paramVariete = \"USA_iowa_V42.yaml\"\n",
    "file_paramITK = \"USA_iowa_V42.yaml\"\n",
    "file_paramTypeSol = \"USA_iowa_V42.yaml\"\n",
    "\n",
    "# data exported from SARRA-H, only used for comparison purposes\n",
    "file_df_weather = \"Meteorologie_US0001.txt\"\n",
    "file_df_rain = \"Pluviometrie_US0001.txt\"\n",
    "file_df_ET0 = \"ET0_US0001.txt\"\n",
    "file_df_irrig = \"Irrigation_AG3US20124.txt\""
   ]
  },
  {
   "cell_type": "markdown",
   "metadata": {},
   "source": [
    "# Loading base data"
   ]
  },
  {
   "cell_type": "markdown",
   "metadata": {},
   "source": [
    "This is data that won't change whatever the simulation."
   ]
  },
  {
   "cell_type": "code",
   "execution_count": null,
   "metadata": {},
   "outputs": [],
   "source": [
    "# define grid dimensions from the rainfall dataset\n",
    "grid_width, grid_height = get_grid_size(TAMSAT_path, date_start, duration)\n",
    "\n",
    "# initialize empty xarray dataset\n",
    "data = xr.Dataset()\n",
    "\n",
    "# load rainfall and weather data\n",
    "data = load_TAMSAT_data(data, TAMSAT_path, date_start, duration)\n",
    "data = load_AgERA5_data(data, AgERA5_data_path, date_start, duration)\n",
    "\n",
    "# compute day length raster\n",
    "data = calc_day_length_raster(data, date_start, duration)\n",
    "\n",
    "# load soil parameters\n",
    "data = load_iSDA_soil_data(data, grid_width, grid_height)"
   ]
  },
  {
   "cell_type": "markdown",
   "metadata": {},
   "source": [
    "# Load simulation data"
   ]
  },
  {
   "cell_type": "markdown",
   "metadata": {},
   "source": [
    "Loading and preparing simulation-specific data\n",
    "Loading main input dataarrays"
   ]
  },
  {
   "cell_type": "code",
   "execution_count": null,
   "metadata": {},
   "outputs": [],
   "source": [
    "# load variety, cropping system and soil parameters\n",
    "paramVariete, paramITK, paramTypeSol = load_YAML_parameters(file_paramVariete, file_paramITK, file_paramTypeSol)\n",
    "\n",
    "# initialize null irrigation scheme\n",
    "data = initialize_default_irrigation(data)"
   ]
  },
  {
   "cell_type": "code",
   "execution_count": null,
   "metadata": {},
   "outputs": [],
   "source": [
    "data"
   ]
  },
  {
   "cell_type": "markdown",
   "metadata": {},
   "source": [
    "# Run"
   ]
  },
  {
   "cell_type": "code",
   "execution_count": null,
   "metadata": {},
   "outputs": [],
   "source": [
    "data = initialize_simulation(data, grid_width, grid_height, duration, paramVariete, paramITK, date_start)\n",
    "\n",
    "start_time = time.time()\n",
    "data = run_model(paramVariete, paramITK, paramTypeSol, data, duration)\n",
    "print(\"--- %s seconds, %s second per iter ---\" % ((time.time() - start_time), (time.time() - start_time)/duration))"
   ]
  },
  {
   "cell_type": "markdown",
   "metadata": {},
   "source": [
    "## Mapping results"
   ]
  },
  {
   "cell_type": "code",
   "execution_count": null,
   "metadata": {},
   "outputs": [],
   "source": [
    "variable = \"lr\"\n",
    "vmax = data[variable].max().values\n",
    "for i in range(20):\n",
    "    data[variable][9*i,:,:].plot(vmin=0, vmax=vmax)\n",
    "    plt.show()"
   ]
  },
  {
   "cell_type": "markdown",
   "metadata": {},
   "source": [
    "## Probing some values at given x,y coords"
   ]
  },
  {
   "cell_type": "code",
   "execution_count": null,
   "metadata": {},
   "outputs": [],
   "source": [
    "(data[\"biomasseTotale\"])[:,120, 180].plot()"
   ]
  },
  {
   "cell_type": "code",
   "execution_count": null,
   "metadata": {},
   "outputs": [],
   "source": [
    "(data[\"biomasseFeuille\"])[:,120, 180].plot()"
   ]
  },
  {
   "cell_type": "code",
   "execution_count": null,
   "metadata": {},
   "outputs": [],
   "source": [
    "(data[\"biomasseTige\"])[:,120, 180].plot()"
   ]
  },
  {
   "cell_type": "code",
   "execution_count": null,
   "metadata": {},
   "outputs": [],
   "source": [
    "(data[\"lai\"])[:,120, 180].plot()"
   ]
  },
  {
   "cell_type": "code",
   "execution_count": null,
   "metadata": {},
   "outputs": [],
   "source": [
    "(data[\"numPhase\"])[:,120, 180].plot()"
   ]
  }
 ],
 "metadata": {
  "kernelspec": {
   "display_name": "Python 3 (ipykernel)",
   "language": "python",
   "name": "python3"
  },
  "language_info": {
   "codemirror_mode": {
    "name": "ipython",
    "version": 3
   },
   "file_extension": ".py",
   "mimetype": "text/x-python",
   "name": "python",
   "nbconvert_exporter": "python",
   "pygments_lexer": "ipython3",
   "version": "3.11.0"
  },
  "vscode": {
   "interpreter": {
    "hash": "59596bfa884b38bda8229050bd743febcad69ace13cb01a56f57ffd48d5b3a13"
   }
  }
 },
 "nbformat": 4,
 "nbformat_minor": 4
}
